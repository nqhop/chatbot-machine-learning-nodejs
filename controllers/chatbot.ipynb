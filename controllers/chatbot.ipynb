{
  "cells": [
    {
      "cell_type": "code",
      "execution_count": 1,
      "metadata": {
        "id": "ltoND5QjZMj6"
      },
      "outputs": [],
      "source": [
        "import pandas as pd\n",
        "import numpy as np\n",
        "\n",
        "from underthesea import word_tokenize\n",
        "from nltk.translate.bleu_score import sentence_bleu\n",
        "from keras.preprocessing.text import Tokenizer, text_to_word_sequence\n",
        "\n",
        "# from keras.layers import merge\n",
        "from keras.layers import Concatenate\n",
        "from keras.layers.core import Dense, Reshape\n",
        "from keras.layers import Embedding\n",
        "from keras.models import Sequential\n",
        "from scipy import spatial"
      ]
    },
    {
      "cell_type": "markdown",
      "metadata": {
        "id": "W4y2R2_hFEAP"
      },
      "source": [
        "# a)\tSử dụng độ đo Bleu score"
      ]
    },
    {
      "cell_type": "code",
      "execution_count": 2,
      "metadata": {},
      "outputs": [
        {
          "name": "stdout",
          "output_type": "stream",
          "text": [
            "e:\\Workspace\\NodeJS\\chatbot-machine-learning-nodejs\n"
          ]
        },
        {
          "data": {
            "text/plain": [
              "'e:\\\\Workspace\\\\NodeJS\\\\chatbot-machine-learning-nodejs\\\\data\\\\chatbot-data.csv'"
            ]
          },
          "execution_count": 2,
          "metadata": {},
          "output_type": "execute_result"
        }
      ],
      "source": [
        "import os\n",
        "dataPath = os.path.dirname(os.getcwd())\n",
        "print(dataPath)\n",
        "filename1 = os.path.join(dataPath, 'data', 'chatbot-data.csv')\n",
        "filename2 = os.path.join(dataPath, 'data', 'chatbot-data-2.csv')\n",
        "filename1"
      ]
    },
    {
      "cell_type": "code",
      "execution_count": 3,
      "metadata": {
        "colab": {
          "base_uri": "https://localhost:8080/"
        },
        "id": "KcPDarpIY1Sh",
        "outputId": "32ff1e15-eba8-45a5-e999-4cbe5749d396"
      },
      "outputs": [
        {
          "name": "stdout",
          "output_type": "stream",
          "text": [
            "   Unnamed: 0                                             user_a  \\\n",
            "0           0                                        bạn tên gì?   \n",
            "1           1                   Tui tên Nam <eos> Bạn học ở đâu?   \n",
            "2           2         tui học ở TDTU luôn <eos> Bạn học ngành gì   \n",
            "3           3                          Chuyên ngành gì vậy bạn ?   \n",
            "4           4  mình học Quản Trị Kinh Doanh <eos> Bạn là ngườ...   \n",
            "\n",
            "                                              user_b  \n",
            "0             Mình tên Trường <eos> còn bạn tên gì?   \n",
            "1  tui học ở TDTU nè <eos> còn bạn học ở trường n...  \n",
            "2                       mình học Công Nghệ Thông Tin  \n",
            "3  mình học bên Kỹ Thuật Phần Mềm á <eos> còn bạn...  \n",
            "4  Mình là người Đồng tháp <eos> bạn biết Đồng Th...  \n",
            "(7380, 3)\n"
          ]
        }
      ],
      "source": [
        "# filename1 = './data/chatbot data.csv'\n",
        "# filename2 = './data/chatbot data 2.csv'\n",
        "combined_csv = pd.concat([pd.read_csv(f) for f in [filename1, filename2]])\n",
        "combined_csv.to_csv( \"combined_csv.csv\", index=False, encoding='utf-8')\n",
        "df = pd.read_csv(\"combined_csv.csv\")\n",
        "print(df.head(5))\n",
        "print(df.shape)\n",
        "# (7380, 3)"
      ]
    },
    {
      "cell_type": "code",
      "execution_count": 4,
      "metadata": {
        "colab": {
          "base_uri": "https://localhost:8080/",
          "height": 571
        },
        "id": "oCDkSdtQf4Yc",
        "outputId": "b617ec88-7961-4c4a-a6c3-236b2fdd67a1"
      },
      "outputs": [
        {
          "data": {
            "text/html": [
              "<div>\n",
              "<style scoped>\n",
              "    .dataframe tbody tr th:only-of-type {\n",
              "        vertical-align: middle;\n",
              "    }\n",
              "\n",
              "    .dataframe tbody tr th {\n",
              "        vertical-align: top;\n",
              "    }\n",
              "\n",
              "    .dataframe thead th {\n",
              "        text-align: right;\n",
              "    }\n",
              "</style>\n",
              "<table border=\"1\" class=\"dataframe\">\n",
              "  <thead>\n",
              "    <tr style=\"text-align: right;\">\n",
              "      <th></th>\n",
              "      <th>user_a</th>\n",
              "      <th>clean_user_a</th>\n",
              "      <th>user_a_lower</th>\n",
              "    </tr>\n",
              "  </thead>\n",
              "  <tbody>\n",
              "    <tr>\n",
              "      <th>0</th>\n",
              "      <td>bạn tên gì?</td>\n",
              "      <td>bạn tên gì</td>\n",
              "      <td>bạn tên gì</td>\n",
              "    </tr>\n",
              "    <tr>\n",
              "      <th>1</th>\n",
              "      <td>Tui tên Nam &lt;eos&gt; Bạn học ở đâu?</td>\n",
              "      <td>Tui tên Nam eos Bạn học ở đâu</td>\n",
              "      <td>tui tên nam eos bạn học ở đâu</td>\n",
              "    </tr>\n",
              "    <tr>\n",
              "      <th>2</th>\n",
              "      <td>tui học ở TDTU luôn &lt;eos&gt; Bạn học ngành gì</td>\n",
              "      <td>tui học ở TDTU luôn eos Bạn học ngành gì</td>\n",
              "      <td>tui học ở tdtu luôn eos bạn học ngành gì</td>\n",
              "    </tr>\n",
              "    <tr>\n",
              "      <th>3</th>\n",
              "      <td>Chuyên ngành gì vậy bạn ?</td>\n",
              "      <td>Chuyên ngành gì vậy bạn</td>\n",
              "      <td>chuyên ngành gì vậy bạn</td>\n",
              "    </tr>\n",
              "    <tr>\n",
              "      <th>4</th>\n",
              "      <td>mình học Quản Trị Kinh Doanh &lt;eos&gt; Bạn là ngườ...</td>\n",
              "      <td>mình học Quản Trị Kinh Doanh eos Bạn là người ...</td>\n",
              "      <td>mình học quản trị kinh doanh eos bạn là người ...</td>\n",
              "    </tr>\n",
              "    <tr>\n",
              "      <th>...</th>\n",
              "      <td>...</td>\n",
              "      <td>...</td>\n",
              "      <td>...</td>\n",
              "    </tr>\n",
              "    <tr>\n",
              "      <th>7375</th>\n",
              "      <td>Nhà mày bao nhiêu người?</td>\n",
              "      <td>Nhà mày bao nhiêu người</td>\n",
              "      <td>nhà mày bao nhiêu người</td>\n",
              "    </tr>\n",
              "    <tr>\n",
              "      <th>7376</th>\n",
              "      <td>Có bao nhiêu anh chị em?</td>\n",
              "      <td>Có bao nhiêu anh chị em</td>\n",
              "      <td>có bao nhiêu anh chị em</td>\n",
              "    </tr>\n",
              "    <tr>\n",
              "      <th>7377</th>\n",
              "      <td>Mày là em út hay anh cả?</td>\n",
              "      <td>Mày là em út hay anh cả</td>\n",
              "      <td>mày là em út hay anh cả</td>\n",
              "    </tr>\n",
              "    <tr>\n",
              "      <th>7378</th>\n",
              "      <td>Bố mày làm nghề gì?</td>\n",
              "      <td>Bố mày làm nghề gì</td>\n",
              "      <td>bố mày làm nghề gì</td>\n",
              "    </tr>\n",
              "    <tr>\n",
              "      <th>7379</th>\n",
              "      <td>Chị mày làm ở đâu?</td>\n",
              "      <td>Chị mày làm ở đâu</td>\n",
              "      <td>chị mày làm ở đâu</td>\n",
              "    </tr>\n",
              "  </tbody>\n",
              "</table>\n",
              "<p>7380 rows × 3 columns</p>\n",
              "</div>"
            ],
            "text/plain": [
              "                                                 user_a  \\\n",
              "0                                           bạn tên gì?   \n",
              "1                      Tui tên Nam <eos> Bạn học ở đâu?   \n",
              "2            tui học ở TDTU luôn <eos> Bạn học ngành gì   \n",
              "3                             Chuyên ngành gì vậy bạn ?   \n",
              "4     mình học Quản Trị Kinh Doanh <eos> Bạn là ngườ...   \n",
              "...                                                 ...   \n",
              "7375                           Nhà mày bao nhiêu người?   \n",
              "7376                           Có bao nhiêu anh chị em?   \n",
              "7377                           Mày là em út hay anh cả?   \n",
              "7378                                Bố mày làm nghề gì?   \n",
              "7379                                 Chị mày làm ở đâu?   \n",
              "\n",
              "                                           clean_user_a  \\\n",
              "0                                            bạn tên gì   \n",
              "1                         Tui tên Nam eos Bạn học ở đâu   \n",
              "2              tui học ở TDTU luôn eos Bạn học ngành gì   \n",
              "3                              Chuyên ngành gì vậy bạn    \n",
              "4     mình học Quản Trị Kinh Doanh eos Bạn là người ...   \n",
              "...                                                 ...   \n",
              "7375                            Nhà mày bao nhiêu người   \n",
              "7376                            Có bao nhiêu anh chị em   \n",
              "7377                            Mày là em út hay anh cả   \n",
              "7378                                 Bố mày làm nghề gì   \n",
              "7379                                  Chị mày làm ở đâu   \n",
              "\n",
              "                                           user_a_lower  \n",
              "0                                            bạn tên gì  \n",
              "1                         tui tên nam eos bạn học ở đâu  \n",
              "2              tui học ở tdtu luôn eos bạn học ngành gì  \n",
              "3                              chuyên ngành gì vậy bạn   \n",
              "4     mình học quản trị kinh doanh eos bạn là người ...  \n",
              "...                                                 ...  \n",
              "7375                            nhà mày bao nhiêu người  \n",
              "7376                            có bao nhiêu anh chị em  \n",
              "7377                            mày là em út hay anh cả  \n",
              "7378                                 bố mày làm nghề gì  \n",
              "7379                                  chị mày làm ở đâu  \n",
              "\n",
              "[7380 rows x 3 columns]"
            ]
          },
          "execution_count": 4,
          "metadata": {},
          "output_type": "execute_result"
        }
      ],
      "source": [
        "# Punctuation Removal\n",
        "import string\n",
        "\n",
        "def remove_punctuation(text):\n",
        "    punctuationfree=\"\".join([i for i in text if i not in string.punctuation])\n",
        "    return punctuationfree\n",
        "df['clean_user_a']= df['user_a'].apply(lambda x:remove_punctuation(x))\n",
        "df['user_a_lower']= df['clean_user_a'].apply(lambda x: x.lower())\n",
        "df[['user_a','clean_user_a','user_a_lower']]"
      ]
    },
    {
      "cell_type": "code",
      "execution_count": 5,
      "metadata": {
        "colab": {
          "base_uri": "https://localhost:8080/"
        },
        "id": "OnqAk9EZbzCf",
        "outputId": "474371aa-cd27-4e5a-d802-9bd429b7c0cc"
      },
      "outputs": [
        {
          "data": {
            "text/plain": [
              "[['bạn', 'tên', 'gì'],\n",
              " ['tui', 'tên', 'nam', 'eos', 'bạn', 'học', 'ở', 'đâu'],\n",
              " ['tui', 'học', 'ở', 'tdtu', 'luôn', 'eos', 'bạn', 'học', 'ngành', 'gì'],\n",
              " ['chuyên', 'ngành', 'gì', 'vậy', 'bạn'],\n",
              " ['mình',\n",
              "  'học',\n",
              "  'quản trị',\n",
              "  'kinh doanh',\n",
              "  'eos',\n",
              "  'bạn',\n",
              "  'là',\n",
              "  'người',\n",
              "  'ở',\n",
              "  'đâu',\n",
              "  'vậy'],\n",
              " ['mình', 'biết', 'đồng', 'tháp', 'dưới', 'miền', 'tây', 'đúng', 'không'],\n",
              " ['còn',\n",
              "  'mình',\n",
              "  'ở',\n",
              "  'tphcm',\n",
              "  'luôn',\n",
              "  'nè',\n",
              "  'mình',\n",
              "  'ở',\n",
              "  'quận',\n",
              "  '4',\n",
              "  'eos',\n",
              "  'cuối',\n",
              "  'tuần',\n",
              "  'này',\n",
              "  'bạn',\n",
              "  'có',\n",
              "  'rãnh',\n",
              "  'không'],\n",
              " ['mình', 'tính', 'cuối', 'tuần', 'này', 'rủ', 'bạn', 'đi', 'coffee', 'nè'],\n",
              " ['đi', 'phúc', 'long', 'đối diện', 'trường', 'mình', 'nè'],\n",
              " ['được',\n",
              "  'luôn',\n",
              "  'bạn',\n",
              "  'sáng',\n",
              "  'mình',\n",
              "  'cũng',\n",
              "  'rãnh',\n",
              "  'eos',\n",
              "  'bạn',\n",
              "  'thích',\n",
              "  'ngôn ngữ',\n",
              "  'lập trình',\n",
              "  'nào',\n",
              "  'nhất']]"
            ]
          },
          "execution_count": 5,
          "metadata": {},
          "output_type": "execute_result"
        }
      ],
      "source": [
        "sentences = [word_tokenize(line) for line in df['user_a_lower']]\n",
        "sentences[:10]"
      ]
    },
    {
      "cell_type": "code",
      "execution_count": 6,
      "metadata": {
        "colab": {
          "base_uri": "https://localhost:8080/"
        },
        "id": "b-nnEEKikU4F",
        "outputId": "9dd8aea3-2ea5-4d8b-e87f-9947ddb7ae78"
      },
      "outputs": [
        {
          "name": "stdout",
          "output_type": "stream",
          "text": [
            "Cuộc sống bạn ổn không\n",
            "Cũng ổn\n"
          ]
        }
      ],
      "source": [
        "import warnings\n",
        "warnings.filterwarnings('ignore')\n",
        "\n",
        "def blue(candidate):\n",
        "  max_bleu = 0\n",
        "  max_id = 0\n",
        "  for line in range(0,len(sentences)):\n",
        "    t = sentence_bleu([sentences[line]], word_tokenize(candidate))\n",
        "    if t > max_bleu:\n",
        "      max_bleu = t\n",
        "      max_id = line\n",
        "  \n",
        "  return max_id\n",
        "\n",
        "candidate = 'Cuộc sống bạn ổn không'\n",
        "max_id = blue(candidate)\n",
        "print(candidate)\n",
        "print(df['user_b'][max_id])"
      ]
    },
    {
      "cell_type": "code",
      "execution_count": null,
      "metadata": {
        "colab": {
          "base_uri": "https://localhost:8080/"
        },
        "id": "CFbGFnD8J0mg",
        "outputId": "a8329dd4-15aa-49d9-cd93-5709cef81308"
      },
      "outputs": [
        {
          "name": "stdout",
          "output_type": "stream",
          "text": [
            "**************************\n",
            "*    start chatting      *\n",
            "*    input q to exit     *\n",
            "**************************\n",
            "you : đang làm gì đó?\n",
            "chatbot : Bấm điện thoại\n",
            "you : ăn trưa không\n",
            "chatbot : ok luôn\n",
            "you : ăn gì\n",
            "chatbot : gì cũng được\n",
            "you : ăn hủ tiếu không\n",
            "chatbot : không\n",
            "you : ăn phở nha\n",
            "chatbot : Đi anh ơi\n",
            "you : ăn ở đâu\n",
            "chatbot : KFC chứ đâu\n",
            "you : 15 phút nữa mình sang\n",
            "chatbot : Ok\n",
            "you : q\n",
            "chatbot : tạm biệt\n"
          ]
        }
      ],
      "source": [
        "print(\"**************************\")\n",
        "print(\"*    start chatting      *\")\n",
        "print(\"*    input q to exit     *\")\n",
        "print(\"**************************\")\n",
        "while True:\n",
        "  newMessage  = input(\"you : \")\n",
        "  if newMessage == 'q':\n",
        "    print(\"chatbot :\",\"tạm biệt\")\n",
        "    break\n",
        "  max_id = blue(newMessage)\n",
        "  print(\"chatbot :\",df['user_b'][max_id])"
      ]
    },
    {
      "cell_type": "code",
      "execution_count": null,
      "metadata": {},
      "outputs": [],
      "source": [
        "# **************************\n",
        "# *    start chatting      *\n",
        "# *    input q to exit     *\n",
        "# **************************\n",
        "# you : đang làm gì đó?\n",
        "# chatbot : Bấm điện thoại\n",
        "# you : ăn trưa không\n",
        "# chatbot : ok luôn\n",
        "# you : ăn gì\n",
        "# chatbot : gì cũng được\n",
        "# you : ăn hủ tiếu không\n",
        "# chatbot : không\n",
        "# you : ăn phở nha\n",
        "# chatbot : Đi anh ơi\n",
        "# you : ăn ở đâu\n",
        "# chatbot : KFC chứ đâu\n",
        "# you : 15 phút nữa mình sang\n",
        "# chatbot : Ok\n",
        "# you : q\n",
        "# chatbot : tạm biệt"
      ]
    },
    {
      "cell_type": "markdown",
      "metadata": {
        "id": "Tskc-H4_RH4G"
      },
      "source": [
        "# b)\tSử dụng Word2Vec và độ đo Euclid "
      ]
    },
    {
      "cell_type": "code",
      "execution_count": null,
      "metadata": {
        "colab": {
          "base_uri": "https://localhost:8080/"
        },
        "id": "Atfipgja2cWo",
        "outputId": "921283cd-2312-4ef5-c581-5badcc117b68"
      },
      "outputs": [],
      "source": [
        "# prepare tokenizer\n",
        "t = Tokenizer()\n",
        "t.fit_on_texts(sentences)\n",
        "word2id = t.word_index\n",
        "vocab_size = len(t.word_index) + 1\n",
        "print(vocab_size)\n",
        "print(t.index_word)"
      ]
    },
    {
      "cell_type": "code",
      "execution_count": 28,
      "metadata": {
        "colab": {
          "base_uri": "https://localhost:8080/"
        },
        "id": "gsGsPwlv6LY6",
        "outputId": "cd737771-e8c9-4747-f615-370389b911d5"
      },
      "outputs": [
        {
          "data": {
            "text/plain": [
              "[[3, 28, 4],\n",
              " [79, 28, 139, 18, 3, 16, 7, 8],\n",
              " [79, 16, 7, 531, 136, 18, 3, 16, 80, 4],\n",
              " [912, 80, 4, 19, 3],\n",
              " [15, 16, 1162, 913, 18, 3, 13, 38, 7, 8, 19],\n",
              " [15, 61, 532, 1163, 481, 264, 672, 174, 1],\n",
              " [56, 15, 7, 914, 136, 116, 15, 7, 180, 243, 18, 119, 117, 27, 3, 2, 181, 1],\n",
              " [15, 144, 119, 117, 27, 168, 3, 5, 1591, 116],\n",
              " [5, 915, 392, 772, 32, 15, 116],\n",
              " [25, 136, 3, 265, 15, 52, 181, 18, 3, 11, 533, 916, 9, 57]]"
            ]
          },
          "execution_count": 28,
          "metadata": {},
          "output_type": "execute_result"
        }
      ],
      "source": [
        "wids = [[word2id[w] for w in doc] for doc in sentences]\n",
        "wids[:10]"
      ]
    },
    {
      "cell_type": "code",
      "execution_count": 29,
      "metadata": {
        "colab": {
          "base_uri": "https://localhost:8080/"
        },
        "id": "CeZoe7Ys6Mg2",
        "outputId": "90917a5b-5643-4ac1-8c5e-1694963cc88e"
      },
      "outputs": [
        {
          "data": {
            "text/plain": [
              "([[4, 1544],\n",
              "  [28, 3],\n",
              "  [3, 4],\n",
              "  [3, 28],\n",
              "  [3, 2248],\n",
              "  [4, 2202],\n",
              "  [28, 4],\n",
              "  [3, 2734],\n",
              "  [28, 1088],\n",
              "  [4, 3],\n",
              "  [4, 28],\n",
              "  [28, 1513]],\n",
              " [0, 1, 1, 1, 0, 0, 1, 0, 0, 1, 1, 0])"
            ]
          },
          "execution_count": 29,
          "metadata": {},
          "output_type": "execute_result"
        }
      ],
      "source": [
        "from keras.preprocessing.sequence import skipgrams\n",
        "\n",
        "# generate skip-grams\n",
        "skip_grams = [skipgrams(wid, vocabulary_size=vocab_size, window_size=2) for wid in wids]\n",
        "skip_grams[0]"
      ]
    },
    {
      "cell_type": "code",
      "execution_count": null,
      "metadata": {
        "colab": {
          "base_uri": "https://localhost:8080/"
        },
        "id": "AWO9FL1E6SWh",
        "outputId": "9bc69f4c-b81d-4154-c9a4-5c124d15a647"
      },
      "outputs": [],
      "source": [
        "pairs, labels = skip_grams[0][0], skip_grams[0][1]\n",
        "print(sentences[0])\n",
        "for i in range(15):\n",
        "    print(\"({:s} ({:d}), {:s} ({:d})) -> {:d}\".format(\n",
        "          t.index_word[pairs[i][0]], pairs[i][0], \n",
        "          t.index_word[pairs[i][1]], pairs[i][1], \n",
        "          labels[i]))"
      ]
    },
    {
      "cell_type": "code",
      "execution_count": 31,
      "metadata": {
        "colab": {
          "base_uri": "https://localhost:8080/"
        },
        "id": "fDoZmlD4HlPw",
        "outputId": "13612e6e-a716-4159-df9a-6e3545c984cc"
      },
      "outputs": [
        {
          "name": "stdout",
          "output_type": "stream",
          "text": [
            "Model: \"model\"\n",
            "__________________________________________________________________________________________________\n",
            " Layer (type)                   Output Shape         Param #     Connected to                     \n",
            "==================================================================================================\n",
            " input_1 (InputLayer)           [(None, 1)]          0           []                               \n",
            "                                                                                                  \n",
            " input_2 (InputLayer)           [(None, 1)]          0           []                               \n",
            "                                                                                                  \n",
            " embedding (Embedding)          (None, 1, 400)       1199200     ['input_1[0][0]',                \n",
            "                                                                  'input_2[0][0]']                \n",
            "                                                                                                  \n",
            " reshape (Reshape)              (None, 400, 1)       0           ['embedding[0][0]']              \n",
            "                                                                                                  \n",
            " reshape_1 (Reshape)            (None, 400, 1)       0           ['embedding[1][0]']              \n",
            "                                                                                                  \n",
            " dot (Dot)                      (None, 1, 1)         0           ['reshape[0][0]',                \n",
            "                                                                  'reshape_1[0][0]']              \n",
            "                                                                                                  \n",
            " reshape_2 (Reshape)            (None, 1)            0           ['dot[0][0]']                    \n",
            "                                                                                                  \n",
            " dense (Dense)                  (None, 1)            2           ['reshape_2[0][0]']              \n",
            "                                                                                                  \n",
            "==================================================================================================\n",
            "Total params: 1,199,202\n",
            "Trainable params: 1,199,202\n",
            "Non-trainable params: 0\n",
            "__________________________________________________________________________________________________\n",
            "None\n"
          ]
        }
      ],
      "source": [
        "from keras.layers import Input\n",
        "from keras.models import Model\n",
        "# from keras.layers.embeddings import Embedding\n",
        "from keras.layers import Embedding\n",
        "from keras.layers.core import Dense, Reshape\n",
        "from keras.layers import dot\n",
        "\n",
        "embed_size = 400\n",
        "input_target = Input((1,))\n",
        "input_context = Input((1,))\n",
        "\n",
        "embedding = Embedding(vocab_size, embed_size, input_length=1, name='embedding')\n",
        "\n",
        "word_embedding = embedding(input_target)\n",
        "word_embedding = Reshape((embed_size, 1))(word_embedding)\n",
        "context_embedding = embedding(input_context)\n",
        "context_embedding = Reshape((embed_size, 1))(context_embedding)\n",
        " \n",
        "dot_product = dot([word_embedding, context_embedding], axes=1)\n",
        "dot_product = Reshape((1,))(dot_product)\n",
        "\n",
        "output = Dense(1, activation='sigmoid')(dot_product)\n",
        "\n",
        "model = Model(inputs=[input_target, input_context], outputs=output)\n",
        "model.compile(loss='mean_squared_error', optimizer='rmsprop')\n",
        "\n",
        "print(model.summary())"
      ]
    },
    {
      "cell_type": "code",
      "execution_count": 32,
      "metadata": {
        "colab": {
          "base_uri": "https://localhost:8080/"
        },
        "id": "E4K8vjml65ps",
        "outputId": "34ec62aa-f1f5-471a-cdac-5c1144e0ba9c"
      },
      "outputs": [
        {
          "name": "stdout",
          "output_type": "stream",
          "text": [
            "Epoch: 0 Loss: 1264.8110978108598\n",
            "Epoch: 1 Loss: 1149.3945701805205\n",
            "Epoch: 2 Loss: 1116.1033267735038\n",
            "Epoch: 3 Loss: 1104.1304842089394\n",
            "Epoch: 4 Loss: 1099.0400937302402\n",
            "Epoch: 5 Loss: 1096.675175725044\n",
            "Epoch: 6 Loss: 1095.736146253812\n",
            "Epoch: 7 Loss: 1095.5241110866045\n",
            "Epoch: 8 Loss: 1095.7201200372501\n",
            "Epoch: 9 Loss: 1096.2134937361075\n"
          ]
        }
      ],
      "source": [
        "for epoch in range(0, 10):\n",
        "    loss = 0\n",
        "    for i, elem in enumerate(skip_grams):\n",
        "        # print('i = ',i,'elem = ',elem)\n",
        "        if elem[0] == []:\n",
        "          continue\n",
        "        pair_first_elem = np.array(list(zip(*elem[0]))[0], dtype='int32')\n",
        "        pair_second_elem = np.array(list(zip(*elem[0]))[1], dtype='int32')\n",
        "        labels = np.array(elem[1], dtype='int32')\n",
        "        X = [pair_first_elem, pair_second_elem]\n",
        "        Y = labels\n",
        "\n",
        "        loss += model.train_on_batch(X,Y)  \n",
        "\n",
        "    print('Epoch:', epoch, 'Loss:', loss)"
      ]
    },
    {
      "cell_type": "code",
      "execution_count": 34,
      "metadata": {
        "colab": {
          "base_uri": "https://localhost:8080/",
          "height": 506
        },
        "id": "JJ7W-2mVBBqg",
        "outputId": "6209ac27-867f-472b-a79f-11f1575ff199"
      },
      "outputs": [
        {
          "name": "stdout",
          "output_type": "stream",
          "text": [
            "(2997, 400)\n"
          ]
        },
        {
          "data": {
            "text/html": [
              "<div>\n",
              "<style scoped>\n",
              "    .dataframe tbody tr th:only-of-type {\n",
              "        vertical-align: middle;\n",
              "    }\n",
              "\n",
              "    .dataframe tbody tr th {\n",
              "        vertical-align: top;\n",
              "    }\n",
              "\n",
              "    .dataframe thead th {\n",
              "        text-align: right;\n",
              "    }\n",
              "</style>\n",
              "<table border=\"1\" class=\"dataframe\">\n",
              "  <thead>\n",
              "    <tr style=\"text-align: right;\">\n",
              "      <th></th>\n",
              "      <th>0</th>\n",
              "      <th>1</th>\n",
              "      <th>2</th>\n",
              "      <th>3</th>\n",
              "      <th>4</th>\n",
              "      <th>5</th>\n",
              "      <th>6</th>\n",
              "      <th>7</th>\n",
              "      <th>8</th>\n",
              "      <th>9</th>\n",
              "      <th>...</th>\n",
              "      <th>390</th>\n",
              "      <th>391</th>\n",
              "      <th>392</th>\n",
              "      <th>393</th>\n",
              "      <th>394</th>\n",
              "      <th>395</th>\n",
              "      <th>396</th>\n",
              "      <th>397</th>\n",
              "      <th>398</th>\n",
              "      <th>399</th>\n",
              "    </tr>\n",
              "  </thead>\n",
              "  <tbody>\n",
              "    <tr>\n",
              "      <th>không</th>\n",
              "      <td>-0.043438</td>\n",
              "      <td>2.460308</td>\n",
              "      <td>0.160131</td>\n",
              "      <td>0.324053</td>\n",
              "      <td>0.150417</td>\n",
              "      <td>-0.721172</td>\n",
              "      <td>-2.297697</td>\n",
              "      <td>-0.016855</td>\n",
              "      <td>-1.020152</td>\n",
              "      <td>4.272995</td>\n",
              "      <td>...</td>\n",
              "      <td>0.166825</td>\n",
              "      <td>-4.889871</td>\n",
              "      <td>4.205751</td>\n",
              "      <td>-1.160404</td>\n",
              "      <td>-0.752154</td>\n",
              "      <td>-0.097502</td>\n",
              "      <td>0.776252</td>\n",
              "      <td>1.146243</td>\n",
              "      <td>0.155308</td>\n",
              "      <td>-3.910745</td>\n",
              "    </tr>\n",
              "    <tr>\n",
              "      <th>có</th>\n",
              "      <td>-1.176667</td>\n",
              "      <td>1.980563</td>\n",
              "      <td>0.070527</td>\n",
              "      <td>1.323157</td>\n",
              "      <td>0.598634</td>\n",
              "      <td>0.177911</td>\n",
              "      <td>-0.783718</td>\n",
              "      <td>-0.362770</td>\n",
              "      <td>-0.465439</td>\n",
              "      <td>1.046377</td>\n",
              "      <td>...</td>\n",
              "      <td>1.506529</td>\n",
              "      <td>0.853487</td>\n",
              "      <td>2.407836</td>\n",
              "      <td>0.023161</td>\n",
              "      <td>-0.466386</td>\n",
              "      <td>0.456006</td>\n",
              "      <td>0.619772</td>\n",
              "      <td>-0.786494</td>\n",
              "      <td>3.646927</td>\n",
              "      <td>0.562335</td>\n",
              "    </tr>\n",
              "    <tr>\n",
              "      <th>bạn</th>\n",
              "      <td>0.332893</td>\n",
              "      <td>0.869873</td>\n",
              "      <td>-0.136999</td>\n",
              "      <td>-1.186898</td>\n",
              "      <td>0.503483</td>\n",
              "      <td>-0.629861</td>\n",
              "      <td>-2.116546</td>\n",
              "      <td>-0.054564</td>\n",
              "      <td>-1.601541</td>\n",
              "      <td>-1.852975</td>\n",
              "      <td>...</td>\n",
              "      <td>2.270709</td>\n",
              "      <td>1.834157</td>\n",
              "      <td>-0.361105</td>\n",
              "      <td>-1.759112</td>\n",
              "      <td>0.321802</td>\n",
              "      <td>1.027301</td>\n",
              "      <td>-0.985262</td>\n",
              "      <td>1.170206</td>\n",
              "      <td>-0.517773</td>\n",
              "      <td>2.969092</td>\n",
              "    </tr>\n",
              "    <tr>\n",
              "      <th>gì</th>\n",
              "      <td>-1.183464</td>\n",
              "      <td>2.265480</td>\n",
              "      <td>-0.532594</td>\n",
              "      <td>-1.611488</td>\n",
              "      <td>-0.571018</td>\n",
              "      <td>-0.458084</td>\n",
              "      <td>-2.499362</td>\n",
              "      <td>-1.338778</td>\n",
              "      <td>-2.193396</td>\n",
              "      <td>2.932612</td>\n",
              "      <td>...</td>\n",
              "      <td>2.688513</td>\n",
              "      <td>3.148631</td>\n",
              "      <td>3.191689</td>\n",
              "      <td>-1.070627</td>\n",
              "      <td>-1.553925</td>\n",
              "      <td>1.651627</td>\n",
              "      <td>-0.290350</td>\n",
              "      <td>1.443407</td>\n",
              "      <td>-0.577872</td>\n",
              "      <td>-2.257808</td>\n",
              "    </tr>\n",
              "    <tr>\n",
              "      <th>đi</th>\n",
              "      <td>-1.198121</td>\n",
              "      <td>0.458358</td>\n",
              "      <td>-1.016319</td>\n",
              "      <td>-1.509644</td>\n",
              "      <td>1.309836</td>\n",
              "      <td>2.057400</td>\n",
              "      <td>-2.398912</td>\n",
              "      <td>-0.183441</td>\n",
              "      <td>-0.575773</td>\n",
              "      <td>-0.926128</td>\n",
              "      <td>...</td>\n",
              "      <td>-1.369696</td>\n",
              "      <td>-1.424966</td>\n",
              "      <td>3.683705</td>\n",
              "      <td>-1.135950</td>\n",
              "      <td>-0.528981</td>\n",
              "      <td>0.476215</td>\n",
              "      <td>-0.863703</td>\n",
              "      <td>0.673559</td>\n",
              "      <td>-1.120610</td>\n",
              "      <td>3.915354</td>\n",
              "    </tr>\n",
              "    <tr>\n",
              "      <th>...</th>\n",
              "      <td>...</td>\n",
              "      <td>...</td>\n",
              "      <td>...</td>\n",
              "      <td>...</td>\n",
              "      <td>...</td>\n",
              "      <td>...</td>\n",
              "      <td>...</td>\n",
              "      <td>...</td>\n",
              "      <td>...</td>\n",
              "      <td>...</td>\n",
              "      <td>...</td>\n",
              "      <td>...</td>\n",
              "      <td>...</td>\n",
              "      <td>...</td>\n",
              "      <td>...</td>\n",
              "      <td>...</td>\n",
              "      <td>...</td>\n",
              "      <td>...</td>\n",
              "      <td>...</td>\n",
              "      <td>...</td>\n",
              "      <td>...</td>\n",
              "    </tr>\n",
              "    <tr>\n",
              "      <th>ruột</th>\n",
              "      <td>0.765082</td>\n",
              "      <td>-0.577671</td>\n",
              "      <td>0.641848</td>\n",
              "      <td>0.701105</td>\n",
              "      <td>-0.610467</td>\n",
              "      <td>-0.571837</td>\n",
              "      <td>0.672568</td>\n",
              "      <td>0.652741</td>\n",
              "      <td>0.605512</td>\n",
              "      <td>0.151478</td>\n",
              "      <td>...</td>\n",
              "      <td>-0.499545</td>\n",
              "      <td>-0.320690</td>\n",
              "      <td>-0.565621</td>\n",
              "      <td>0.532408</td>\n",
              "      <td>0.615499</td>\n",
              "      <td>-0.751732</td>\n",
              "      <td>0.618714</td>\n",
              "      <td>-0.608113</td>\n",
              "      <td>0.548060</td>\n",
              "      <td>-0.119786</td>\n",
              "    </tr>\n",
              "    <tr>\n",
              "      <th>nội ngoại</th>\n",
              "      <td>0.622449</td>\n",
              "      <td>-0.580397</td>\n",
              "      <td>0.558366</td>\n",
              "      <td>0.389840</td>\n",
              "      <td>-0.548025</td>\n",
              "      <td>-0.515072</td>\n",
              "      <td>0.488760</td>\n",
              "      <td>0.560669</td>\n",
              "      <td>0.407168</td>\n",
              "      <td>-0.193952</td>\n",
              "      <td>...</td>\n",
              "      <td>-0.308372</td>\n",
              "      <td>0.108329</td>\n",
              "      <td>-0.584959</td>\n",
              "      <td>0.404432</td>\n",
              "      <td>0.524113</td>\n",
              "      <td>-0.421198</td>\n",
              "      <td>0.503982</td>\n",
              "      <td>-0.577119</td>\n",
              "      <td>0.367650</td>\n",
              "      <td>0.159169</td>\n",
              "    </tr>\n",
              "    <tr>\n",
              "      <th>bme</th>\n",
              "      <td>0.579892</td>\n",
              "      <td>-0.348380</td>\n",
              "      <td>0.538794</td>\n",
              "      <td>0.457278</td>\n",
              "      <td>-0.516321</td>\n",
              "      <td>-0.646065</td>\n",
              "      <td>0.262232</td>\n",
              "      <td>0.486577</td>\n",
              "      <td>0.204033</td>\n",
              "      <td>0.085776</td>\n",
              "      <td>...</td>\n",
              "      <td>-0.153335</td>\n",
              "      <td>-0.332847</td>\n",
              "      <td>-0.216834</td>\n",
              "      <td>0.409946</td>\n",
              "      <td>0.514130</td>\n",
              "      <td>-0.338769</td>\n",
              "      <td>0.643268</td>\n",
              "      <td>-0.536628</td>\n",
              "      <td>0.697858</td>\n",
              "      <td>0.251932</td>\n",
              "    </tr>\n",
              "    <tr>\n",
              "      <th>vô duyên</th>\n",
              "      <td>0.602243</td>\n",
              "      <td>-0.717017</td>\n",
              "      <td>0.582823</td>\n",
              "      <td>0.657418</td>\n",
              "      <td>-0.680196</td>\n",
              "      <td>-0.437127</td>\n",
              "      <td>0.671643</td>\n",
              "      <td>0.447871</td>\n",
              "      <td>0.701020</td>\n",
              "      <td>0.256335</td>\n",
              "      <td>...</td>\n",
              "      <td>-0.614583</td>\n",
              "      <td>-0.301262</td>\n",
              "      <td>-0.412846</td>\n",
              "      <td>0.651722</td>\n",
              "      <td>0.501917</td>\n",
              "      <td>-0.564826</td>\n",
              "      <td>0.765456</td>\n",
              "      <td>-0.619066</td>\n",
              "      <td>0.542056</td>\n",
              "      <td>-0.130712</td>\n",
              "    </tr>\n",
              "    <tr>\n",
              "      <th>chị gái</th>\n",
              "      <td>0.589818</td>\n",
              "      <td>-0.488603</td>\n",
              "      <td>0.573788</td>\n",
              "      <td>0.548776</td>\n",
              "      <td>-0.776157</td>\n",
              "      <td>-0.540817</td>\n",
              "      <td>0.601012</td>\n",
              "      <td>0.776127</td>\n",
              "      <td>0.464642</td>\n",
              "      <td>0.022942</td>\n",
              "      <td>...</td>\n",
              "      <td>-0.306855</td>\n",
              "      <td>-0.381593</td>\n",
              "      <td>-0.260143</td>\n",
              "      <td>0.551572</td>\n",
              "      <td>0.672426</td>\n",
              "      <td>-0.549295</td>\n",
              "      <td>0.533780</td>\n",
              "      <td>-0.611780</td>\n",
              "      <td>0.596864</td>\n",
              "      <td>-0.089889</td>\n",
              "    </tr>\n",
              "  </tbody>\n",
              "</table>\n",
              "<p>2997 rows × 400 columns</p>\n",
              "</div>"
            ],
            "text/plain": [
              "                0         1         2         3         4         5    \\\n",
              "không     -0.043438  2.460308  0.160131  0.324053  0.150417 -0.721172   \n",
              "có        -1.176667  1.980563  0.070527  1.323157  0.598634  0.177911   \n",
              "bạn        0.332893  0.869873 -0.136999 -1.186898  0.503483 -0.629861   \n",
              "gì        -1.183464  2.265480 -0.532594 -1.611488 -0.571018 -0.458084   \n",
              "đi        -1.198121  0.458358 -1.016319 -1.509644  1.309836  2.057400   \n",
              "...             ...       ...       ...       ...       ...       ...   \n",
              "ruột       0.765082 -0.577671  0.641848  0.701105 -0.610467 -0.571837   \n",
              "nội ngoại  0.622449 -0.580397  0.558366  0.389840 -0.548025 -0.515072   \n",
              "bme        0.579892 -0.348380  0.538794  0.457278 -0.516321 -0.646065   \n",
              "vô duyên   0.602243 -0.717017  0.582823  0.657418 -0.680196 -0.437127   \n",
              "chị gái    0.589818 -0.488603  0.573788  0.548776 -0.776157 -0.540817   \n",
              "\n",
              "                6         7         8         9    ...       390       391  \\\n",
              "không     -2.297697 -0.016855 -1.020152  4.272995  ...  0.166825 -4.889871   \n",
              "có        -0.783718 -0.362770 -0.465439  1.046377  ...  1.506529  0.853487   \n",
              "bạn       -2.116546 -0.054564 -1.601541 -1.852975  ...  2.270709  1.834157   \n",
              "gì        -2.499362 -1.338778 -2.193396  2.932612  ...  2.688513  3.148631   \n",
              "đi        -2.398912 -0.183441 -0.575773 -0.926128  ... -1.369696 -1.424966   \n",
              "...             ...       ...       ...       ...  ...       ...       ...   \n",
              "ruột       0.672568  0.652741  0.605512  0.151478  ... -0.499545 -0.320690   \n",
              "nội ngoại  0.488760  0.560669  0.407168 -0.193952  ... -0.308372  0.108329   \n",
              "bme        0.262232  0.486577  0.204033  0.085776  ... -0.153335 -0.332847   \n",
              "vô duyên   0.671643  0.447871  0.701020  0.256335  ... -0.614583 -0.301262   \n",
              "chị gái    0.601012  0.776127  0.464642  0.022942  ... -0.306855 -0.381593   \n",
              "\n",
              "                392       393       394       395       396       397  \\\n",
              "không      4.205751 -1.160404 -0.752154 -0.097502  0.776252  1.146243   \n",
              "có         2.407836  0.023161 -0.466386  0.456006  0.619772 -0.786494   \n",
              "bạn       -0.361105 -1.759112  0.321802  1.027301 -0.985262  1.170206   \n",
              "gì         3.191689 -1.070627 -1.553925  1.651627 -0.290350  1.443407   \n",
              "đi         3.683705 -1.135950 -0.528981  0.476215 -0.863703  0.673559   \n",
              "...             ...       ...       ...       ...       ...       ...   \n",
              "ruột      -0.565621  0.532408  0.615499 -0.751732  0.618714 -0.608113   \n",
              "nội ngoại -0.584959  0.404432  0.524113 -0.421198  0.503982 -0.577119   \n",
              "bme       -0.216834  0.409946  0.514130 -0.338769  0.643268 -0.536628   \n",
              "vô duyên  -0.412846  0.651722  0.501917 -0.564826  0.765456 -0.619066   \n",
              "chị gái   -0.260143  0.551572  0.672426 -0.549295  0.533780 -0.611780   \n",
              "\n",
              "                398       399  \n",
              "không      0.155308 -3.910745  \n",
              "có         3.646927  0.562335  \n",
              "bạn       -0.517773  2.969092  \n",
              "gì        -0.577872 -2.257808  \n",
              "đi        -1.120610  3.915354  \n",
              "...             ...       ...  \n",
              "ruột       0.548060 -0.119786  \n",
              "nội ngoại  0.367650  0.159169  \n",
              "bme        0.697858  0.251932  \n",
              "vô duyên   0.542056 -0.130712  \n",
              "chị gái    0.596864 -0.089889  \n",
              "\n",
              "[2997 rows x 400 columns]"
            ]
          },
          "execution_count": 34,
          "metadata": {},
          "output_type": "execute_result"
        }
      ],
      "source": [
        "T = model.layers[2]\n",
        "weights = T.get_weights()[0][1:]\n",
        "\n",
        "print(weights.shape)\n",
        "df_embedding = pd.DataFrame(weights, index=t.index_word.values())\n",
        "df_embedding"
      ]
    },
    {
      "cell_type": "code",
      "execution_count": null,
      "metadata": {
        "colab": {
          "base_uri": "https://localhost:8080/",
          "height": 36
        },
        "id": "iy6ttoEDBDHx",
        "outputId": "92751bdd-469c-484a-873e-0765b0fae372"
      },
      "outputs": [],
      "source": [
        "def compare(query):\n",
        "  max_cs = 0\n",
        "  max_id = 0\n",
        "  query = remove_punctuation(query)\n",
        "  query = query.lower()\n",
        "  query = word_tokenize(query)\n",
        "\n",
        "  query_arr = []\n",
        "  for token in query:\n",
        "    try:\n",
        "      query_arr.append(list(df_embedding.loc[token]))\n",
        "    except BaseException:\n",
        "      pass \n",
        "  query_arr = np.array(query_arr)\n",
        "  sum_query_arr = np.sum(query_arr,0)\n",
        "\n",
        "\n",
        "  for i in range(0,len(sentences)):\n",
        "    M = np.array([list(df_embedding.loc[token]) for token in sentences[i]])\n",
        "    sum_arr = np.sum(M,0)\n",
        "\n",
        "    #compare sentence(M) and query\n",
        "    cs = 1 - spatial.distance.cosine(sum_query_arr, sum_arr)\n",
        "    if cs > max_cs:\n",
        "      max_cs = cs\n",
        "      max_id = i\n",
        "  \n",
        "  return max_id\n",
        "\n",
        "max_id = compare('Bạn học trường nào?')\n",
        "df['user_b'][max_id]"
      ]
    },
    {
      "cell_type": "code",
      "execution_count": null,
      "metadata": {
        "colab": {
          "base_uri": "https://localhost:8080/"
        },
        "id": "BGv4pvj3BC_Z",
        "outputId": "e5d50d4c-c40b-42a4-def4-d9372e66d829"
      },
      "outputs": [
        {
          "name": "stdout",
          "output_type": "stream",
          "text": [
            "**************************\n",
            "*    start chatting      *\n",
            "*    input q to exit     *\n",
            "**************************\n",
            "you : Bạn học trường nào\n",
            "chatbot : Tớ học đại học Tôn Đức Thắng\n",
            "you : Bạn bao nhiêu tuổi?\n",
            "chatbot : mình 21 tuổi\n",
            "you : Bạn bao nhiêu tuổi?\n",
            "chatbot : mình 21 tuổi\n",
            "you : Bạn có sở thích gì?\n",
            "chatbot : Núi và sông.\n",
            "you : có chơi thể thao không\n",
            "chatbot : Có.\n",
            "you : chiều đi đá banh không\n",
            "chatbot : đi\n",
            "you : ok\n",
            "chatbot : chúc ngày mới vui vể\n",
            "you : q\n",
            "chatbot : tạm biệt\n"
          ]
        }
      ],
      "source": [
        "print(\"**************************\")\n",
        "print(\"*    start chatting      *\")\n",
        "print(\"*    input q to exit     *\")\n",
        "print(\"**************************\")\n",
        "while True:\n",
        "  newMessage  = input(\"you : \")\n",
        "  if newMessage == 'q':\n",
        "    print(\"chatbot :\",\"tạm biệt\")\n",
        "    break\n",
        "  max_id = compare(newMessage)\n",
        "  print(\"chatbot :\",df['user_b'][max_id])"
      ]
    },
    {
      "cell_type": "code",
      "execution_count": null,
      "metadata": {
        "id": "puvE8dOAMKQr"
      },
      "outputs": [],
      "source": [
        "# **************************\n",
        "# *    start chatting      *\n",
        "# *    input q to exit     *\n",
        "# **************************\n",
        "# you : Bạn học trường nào\n",
        "# chatbot : Tớ học đại học Tôn Đức Thắng\n",
        "# you : Bạn bao nhiêu tuổi?\n",
        "# chatbot : mình 21 tuổi\n",
        "# you : Bạn bao nhiêu tuổi?\n",
        "# chatbot : mình 21 tuổi\n",
        "# you : Bạn có sở thích gì?\n",
        "# chatbot : Núi và sông.\n",
        "# you : có chơi thể thao không\n",
        "# chatbot : Có.\n",
        "# you : chiều đi đá banh không\n",
        "# chatbot : đi\n",
        "# you : ok\n",
        "# chatbot : chúc ngày mới vui vể\n",
        "# you : q\n",
        "# chatbot : tạm biệt"
      ]
    },
    {
      "attachments": {},
      "cell_type": "markdown",
      "metadata": {},
      "source": [
        "# Server"
      ]
    },
    {
      "cell_type": "code",
      "execution_count": 7,
      "metadata": {},
      "outputs": [
        {
          "name": "stdout",
          "output_type": "stream",
          "text": [
            " * Serving Flask app '__main__'\n",
            " * Debug mode: off\n"
          ]
        },
        {
          "name": "stderr",
          "output_type": "stream",
          "text": [
            "WARNING: This is a development server. Do not use it in a production deployment. Use a production WSGI server instead.\n",
            " * Running on http://127.0.0.1:5000\n",
            "Press CTRL+C to quit\n"
          ]
        },
        {
          "name": "stdout",
          "output_type": "stream",
          "text": [
            "chào bạn\n"
          ]
        },
        {
          "name": "stderr",
          "output_type": "stream",
          "text": [
            "127.0.0.1 - - [27/Feb/2023 08:02:26] \"POST /chatbot HTTP/1.1\" 200 -\n"
          ]
        },
        {
          "name": "stdout",
          "output_type": "stream",
          "text": [
            "Xin chào\n",
            "chào bạn\n"
          ]
        },
        {
          "name": "stderr",
          "output_type": "stream",
          "text": [
            "127.0.0.1 - - [27/Feb/2023 08:02:57] \"POST /chatbot HTTP/1.1\" 200 -\n"
          ]
        },
        {
          "name": "stdout",
          "output_type": "stream",
          "text": [
            "Xin chào\n",
            "Bạn học trường nào\n"
          ]
        },
        {
          "name": "stderr",
          "output_type": "stream",
          "text": [
            "127.0.0.1 - - [27/Feb/2023 08:03:25] \"POST /chatbot HTTP/1.1\" 200 -\n"
          ]
        },
        {
          "name": "stdout",
          "output_type": "stream",
          "text": [
            "TĐT\n",
            "bạn khỏe không\n"
          ]
        },
        {
          "name": "stderr",
          "output_type": "stream",
          "text": [
            "127.0.0.1 - - [27/Feb/2023 08:03:38] \"POST /chatbot HTTP/1.1\" 200 -\n"
          ]
        },
        {
          "name": "stdout",
          "output_type": "stream",
          "text": [
            "không\n",
            "bạn học trường nào\n"
          ]
        },
        {
          "name": "stderr",
          "output_type": "stream",
          "text": [
            "127.0.0.1 - - [27/Feb/2023 08:23:58] \"POST /chatbot HTTP/1.1\" 200 -\n"
          ]
        },
        {
          "name": "stdout",
          "output_type": "stream",
          "text": [
            "Tớ học đại học Tôn Đức Thắng\n",
            "c\n"
          ]
        },
        {
          "name": "stderr",
          "output_type": "stream",
          "text": [
            "127.0.0.1 - - [27/Feb/2023 08:25:12] \"POST /chatbot HTTP/1.1\" 200 -\n"
          ]
        },
        {
          "name": "stdout",
          "output_type": "stream",
          "text": [
            "Mình tên Trường <eos> còn bạn tên gì? \n",
            "chào bạn\n"
          ]
        },
        {
          "name": "stderr",
          "output_type": "stream",
          "text": [
            "127.0.0.1 - - [27/Feb/2023 08:26:48] \"POST /chatbot HTTP/1.1\" 200 -\n"
          ]
        },
        {
          "name": "stdout",
          "output_type": "stream",
          "text": [
            "Xin chào\n",
            "chào bạn\n"
          ]
        },
        {
          "name": "stderr",
          "output_type": "stream",
          "text": [
            "127.0.0.1 - - [27/Feb/2023 09:08:41] \"POST /chatbot HTTP/1.1\" 200 -\n"
          ]
        },
        {
          "name": "stdout",
          "output_type": "stream",
          "text": [
            "Xin chào\n",
            "chào bạn\n"
          ]
        },
        {
          "name": "stderr",
          "output_type": "stream",
          "text": [
            "127.0.0.1 - - [27/Feb/2023 09:11:04] \"POST /chatbot HTTP/1.1\" 200 -\n"
          ]
        },
        {
          "name": "stdout",
          "output_type": "stream",
          "text": [
            "Xin chào\n",
            "chào bạn\n"
          ]
        },
        {
          "name": "stderr",
          "output_type": "stream",
          "text": [
            "127.0.0.1 - - [27/Feb/2023 09:12:58] \"POST /chatbot HTTP/1.1\" 200 -\n"
          ]
        },
        {
          "name": "stdout",
          "output_type": "stream",
          "text": [
            "Xin chào\n",
            "chào bạn\n"
          ]
        },
        {
          "name": "stderr",
          "output_type": "stream",
          "text": [
            "127.0.0.1 - - [27/Feb/2023 09:20:39] \"POST /chatbot HTTP/1.1\" 200 -\n"
          ]
        },
        {
          "name": "stdout",
          "output_type": "stream",
          "text": [
            "Xin chào\n",
            "chào bạn\n"
          ]
        },
        {
          "name": "stderr",
          "output_type": "stream",
          "text": [
            "127.0.0.1 - - [27/Feb/2023 09:27:02] \"POST /chatbot HTTP/1.1\" 200 -\n"
          ]
        },
        {
          "name": "stdout",
          "output_type": "stream",
          "text": [
            "Xin chào\n",
            "chào bạn\n"
          ]
        },
        {
          "name": "stderr",
          "output_type": "stream",
          "text": [
            "127.0.0.1 - - [27/Feb/2023 14:21:24] \"POST /chatbot HTTP/1.1\" 200 -\n"
          ]
        },
        {
          "name": "stdout",
          "output_type": "stream",
          "text": [
            "Xin chào\n",
            "chào bạn\n"
          ]
        },
        {
          "name": "stderr",
          "output_type": "stream",
          "text": [
            "127.0.0.1 - - [27/Feb/2023 14:33:11] \"POST /chatbot HTTP/1.1\" 200 -\n"
          ]
        },
        {
          "name": "stdout",
          "output_type": "stream",
          "text": [
            "Xin chào\n",
            "chào bạn\n"
          ]
        },
        {
          "name": "stderr",
          "output_type": "stream",
          "text": [
            "127.0.0.1 - - [27/Feb/2023 15:07:43] \"POST /chatbot HTTP/1.1\" 200 -\n"
          ]
        },
        {
          "name": "stdout",
          "output_type": "stream",
          "text": [
            "Xin chào\n",
            "chào bạn\n"
          ]
        },
        {
          "name": "stderr",
          "output_type": "stream",
          "text": [
            "127.0.0.1 - - [27/Feb/2023 15:13:09] \"POST /chatbot HTTP/1.1\" 200 -\n"
          ]
        },
        {
          "name": "stdout",
          "output_type": "stream",
          "text": [
            "Xin chào\n",
            "chào bạn\n"
          ]
        },
        {
          "name": "stderr",
          "output_type": "stream",
          "text": [
            "127.0.0.1 - - [27/Feb/2023 15:37:22] \"POST /chatbot HTTP/1.1\" 200 -\n"
          ]
        },
        {
          "name": "stdout",
          "output_type": "stream",
          "text": [
            "Xin chào\n",
            "chào bạn\n"
          ]
        },
        {
          "name": "stderr",
          "output_type": "stream",
          "text": [
            "127.0.0.1 - - [27/Feb/2023 15:37:57] \"POST /chatbot HTTP/1.1\" 200 -\n"
          ]
        },
        {
          "name": "stdout",
          "output_type": "stream",
          "text": [
            "Xin chào\n",
            "chào bạn\n"
          ]
        },
        {
          "name": "stderr",
          "output_type": "stream",
          "text": [
            "127.0.0.1 - - [27/Feb/2023 15:41:59] \"POST /chatbot HTTP/1.1\" 200 -\n"
          ]
        },
        {
          "name": "stdout",
          "output_type": "stream",
          "text": [
            "Xin chào\n",
            "bạn học trường nào\n"
          ]
        },
        {
          "name": "stderr",
          "output_type": "stream",
          "text": [
            "127.0.0.1 - - [27/Feb/2023 15:42:44] \"POST /chatbot HTTP/1.1\" 200 -\n"
          ]
        },
        {
          "name": "stdout",
          "output_type": "stream",
          "text": [
            "Tớ học đại học Tôn Đức Thắng\n",
            "chào bạn\n"
          ]
        },
        {
          "name": "stderr",
          "output_type": "stream",
          "text": [
            "127.0.0.1 - - [27/Feb/2023 15:44:59] \"POST /chatbot HTTP/1.1\" 200 -\n"
          ]
        },
        {
          "name": "stdout",
          "output_type": "stream",
          "text": [
            "Xin chào\n",
            "chào bạn\n"
          ]
        },
        {
          "name": "stderr",
          "output_type": "stream",
          "text": [
            "127.0.0.1 - - [27/Feb/2023 15:53:38] \"POST /chatbot HTTP/1.1\" 200 -\n"
          ]
        },
        {
          "name": "stdout",
          "output_type": "stream",
          "text": [
            "Xin chào\n",
            "bạn học trương nào\n"
          ]
        },
        {
          "name": "stderr",
          "output_type": "stream",
          "text": [
            "127.0.0.1 - - [27/Feb/2023 15:54:31] \"POST /chatbot HTTP/1.1\" 200 -\n"
          ]
        },
        {
          "name": "stdout",
          "output_type": "stream",
          "text": [
            "Tớ học đại học Tôn Đức Thắng\n",
            "\n"
          ]
        },
        {
          "name": "stderr",
          "output_type": "stream",
          "text": [
            "127.0.0.1 - - [27/Feb/2023 15:55:14] \"POST /chatbot HTTP/1.1\" 200 -\n"
          ]
        },
        {
          "name": "stdout",
          "output_type": "stream",
          "text": [
            "Mình tên Trường <eos> còn bạn tên gì? \n",
            "chào bạn\n"
          ]
        },
        {
          "name": "stderr",
          "output_type": "stream",
          "text": [
            "127.0.0.1 - - [27/Feb/2023 15:55:51] \"POST /chatbot HTTP/1.1\" 200 -\n"
          ]
        },
        {
          "name": "stdout",
          "output_type": "stream",
          "text": [
            "Xin chào\n",
            "chào bạn\n"
          ]
        },
        {
          "name": "stderr",
          "output_type": "stream",
          "text": [
            "127.0.0.1 - - [27/Feb/2023 15:57:54] \"POST /chatbot HTTP/1.1\" 200 -\n"
          ]
        },
        {
          "name": "stdout",
          "output_type": "stream",
          "text": [
            "Xin chào\n",
            "chào bạn\n"
          ]
        },
        {
          "name": "stderr",
          "output_type": "stream",
          "text": [
            "127.0.0.1 - - [27/Feb/2023 15:58:36] \"POST /chatbot HTTP/1.1\" 200 -\n"
          ]
        },
        {
          "name": "stdout",
          "output_type": "stream",
          "text": [
            "Xin chào\n",
            "chào bạn\n"
          ]
        },
        {
          "name": "stderr",
          "output_type": "stream",
          "text": [
            "127.0.0.1 - - [27/Feb/2023 15:59:05] \"POST /chatbot HTTP/1.1\" 200 -\n"
          ]
        },
        {
          "name": "stdout",
          "output_type": "stream",
          "text": [
            "Xin chào\n",
            "chào bạn\n"
          ]
        },
        {
          "name": "stderr",
          "output_type": "stream",
          "text": [
            "127.0.0.1 - - [27/Feb/2023 15:59:23] \"POST /chatbot HTTP/1.1\" 200 -\n"
          ]
        },
        {
          "name": "stdout",
          "output_type": "stream",
          "text": [
            "Xin chào\n",
            "chào bạn\n"
          ]
        },
        {
          "name": "stderr",
          "output_type": "stream",
          "text": [
            "127.0.0.1 - - [27/Feb/2023 16:01:08] \"POST /chatbot HTTP/1.1\" 200 -\n"
          ]
        },
        {
          "name": "stdout",
          "output_type": "stream",
          "text": [
            "Xin chào\n",
            "bạn học trường nào\n"
          ]
        },
        {
          "name": "stderr",
          "output_type": "stream",
          "text": [
            "127.0.0.1 - - [27/Feb/2023 16:01:23] \"POST /chatbot HTTP/1.1\" 200 -\n"
          ]
        },
        {
          "name": "stdout",
          "output_type": "stream",
          "text": [
            "Tớ học đại học Tôn Đức Thắng\n",
            "chào bạn\n"
          ]
        },
        {
          "name": "stderr",
          "output_type": "stream",
          "text": [
            "127.0.0.1 - - [27/Feb/2023 16:05:46] \"POST /chatbot HTTP/1.1\" 200 -\n"
          ]
        },
        {
          "name": "stdout",
          "output_type": "stream",
          "text": [
            "Xin chào\n",
            "đi chơi không\n"
          ]
        },
        {
          "name": "stderr",
          "output_type": "stream",
          "text": [
            "127.0.0.1 - - [27/Feb/2023 16:06:00] \"POST /chatbot HTTP/1.1\" 200 -\n"
          ]
        },
        {
          "name": "stdout",
          "output_type": "stream",
          "text": [
            "đi\n",
            "chào bạn\n"
          ]
        },
        {
          "name": "stderr",
          "output_type": "stream",
          "text": [
            "127.0.0.1 - - [27/Feb/2023 16:07:29] \"POST /chatbot HTTP/1.1\" 200 -\n"
          ]
        },
        {
          "name": "stdout",
          "output_type": "stream",
          "text": [
            "Xin chào\n"
          ]
        }
      ],
      "source": [
        "from flask import Flask, request\n",
        "import json\n",
        "\n",
        "# Setup flask server\n",
        "app = Flask(__name__)\n",
        "\n",
        "# Setup url route which will calculate\n",
        "@app.route('/chatbot', methods = ['POST'])\n",
        "def chat():\n",
        "\tdata = request.get_json()\n",
        "\tprint(data)\n",
        "\n",
        "\tmax_id = blue(data)\n",
        "\tresult = df['user_b'][max_id]\n",
        "\tprint(result)\n",
        "\n",
        "\t# Return data in json format\n",
        "\treturn json.dumps({\"result\":result})\n",
        "\n",
        "if __name__ == \"__main__\":\n",
        "\tapp.run(port=5000)\n",
        "\n",
        "# npx kill-port 5000"
      ]
    },
    {
      "cell_type": "code",
      "execution_count": null,
      "metadata": {},
      "outputs": [],
      "source": []
    }
  ],
  "metadata": {
    "colab": {
      "collapsed_sections": [
        "Tskc-H4_RH4G"
      ],
      "provenance": []
    },
    "kernelspec": {
      "display_name": "deeplearning",
      "language": "python",
      "name": "python3"
    },
    "language_info": {
      "codemirror_mode": {
        "name": "ipython",
        "version": 3
      },
      "file_extension": ".py",
      "mimetype": "text/x-python",
      "name": "python",
      "nbconvert_exporter": "python",
      "pygments_lexer": "ipython3",
      "version": "3.8.5"
    },
    "vscode": {
      "interpreter": {
        "hash": "5a0e723ed086194c9e58ad496de2cef8c3197e7cc419d1fd279311483aec59b6"
      }
    }
  },
  "nbformat": 4,
  "nbformat_minor": 0
}
