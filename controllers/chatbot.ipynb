{
  "cells": [
    {
      "cell_type": "code",
      "execution_count": 1,
      "metadata": {
        "id": "ltoND5QjZMj6"
      },
      "outputs": [],
      "source": [
        "import pandas as pd\n",
        "import numpy as np\n",
        "\n",
        "from underthesea import word_tokenize\n",
        "from nltk.translate.bleu_score import sentence_bleu\n",
        "from keras.preprocessing.text import Tokenizer, text_to_word_sequence\n",
        "\n",
        "# from keras.layers import merge\n",
        "from keras.layers import Concatenate\n",
        "from keras.layers.core import Dense, Reshape\n",
        "from keras.layers import Embedding\n",
        "from keras.models import Sequential\n",
        "from scipy import spatial"
      ]
    },
    {
      "cell_type": "markdown",
      "metadata": {
        "id": "W4y2R2_hFEAP"
      },
      "source": [
        "# a)\tSử dụng độ đo Bleu score"
      ]
    },
    {
      "cell_type": "code",
      "execution_count": 22,
      "metadata": {},
      "outputs": [
        {
          "name": "stdout",
          "output_type": "stream",
          "text": [
            "e:\\Workspace\\NodeJS\\chatbot-machine-learning-nodejs\n"
          ]
        },
        {
          "data": {
            "text/plain": [
              "'e:\\\\Workspace\\\\NodeJS\\\\chatbot-machine-learning-nodejs\\\\data\\\\chatbot-data.csv'"
            ]
          },
          "execution_count": 22,
          "metadata": {},
          "output_type": "execute_result"
        }
      ],
      "source": [
        "import os\n",
        "dataPath = os.path.dirname(os.getcwd())\n",
        "print(dataPath)\n",
        "filename1 = os.path.join(dataPath, 'data', 'chatbot-data.csv')\n",
        "filename2 = os.path.join(dataPath, 'data', 'chatbot-data-2.csv')\n",
        "filename1"
      ]
    },
    {
      "cell_type": "code",
      "execution_count": 23,
      "metadata": {
        "colab": {
          "base_uri": "https://localhost:8080/"
        },
        "id": "KcPDarpIY1Sh",
        "outputId": "32ff1e15-eba8-45a5-e999-4cbe5749d396"
      },
      "outputs": [
        {
          "name": "stdout",
          "output_type": "stream",
          "text": [
            "   Unnamed: 0                                             user_a  \\\n",
            "0           0                                        bạn tên gì?   \n",
            "1           1                   Tui tên Nam <eos> Bạn học ở đâu?   \n",
            "2           2         tui học ở TDTU luôn <eos> Bạn học ngành gì   \n",
            "3           3                          Chuyên ngành gì vậy bạn ?   \n",
            "4           4  mình học Quản Trị Kinh Doanh <eos> Bạn là ngườ...   \n",
            "\n",
            "                                              user_b  \n",
            "0             Mình tên Trường <eos> còn bạn tên gì?   \n",
            "1  tui học ở TDTU nè <eos> còn bạn học ở trường n...  \n",
            "2                       mình học Công Nghệ Thông Tin  \n",
            "3  mình học bên Kỹ Thuật Phần Mềm á <eos> còn bạn...  \n",
            "4  Mình là người Đồng tháp <eos> bạn biết Đồng Th...  \n",
            "(7380, 3)\n"
          ]
        }
      ],
      "source": [
        "# filename1 = './data/chatbot data.csv'\n",
        "# filename2 = './data/chatbot data 2.csv'\n",
        "combined_csv = pd.concat([pd.read_csv(f) for f in [filename1, filename2]])\n",
        "combined_csv.to_csv( \"combined_csv.csv\", index=False, encoding='utf-8')\n",
        "df = pd.read_csv(\"combined_csv.csv\")\n",
        "print(df.head(5))\n",
        "print(df.shape)\n",
        "# (7380, 3)"
      ]
    },
    {
      "cell_type": "code",
      "execution_count": 14,
      "metadata": {
        "colab": {
          "base_uri": "https://localhost:8080/",
          "height": 571
        },
        "id": "oCDkSdtQf4Yc",
        "outputId": "b617ec88-7961-4c4a-a6c3-236b2fdd67a1"
      },
      "outputs": [
        {
          "data": {
            "text/html": [
              "<div>\n",
              "<style scoped>\n",
              "    .dataframe tbody tr th:only-of-type {\n",
              "        vertical-align: middle;\n",
              "    }\n",
              "\n",
              "    .dataframe tbody tr th {\n",
              "        vertical-align: top;\n",
              "    }\n",
              "\n",
              "    .dataframe thead th {\n",
              "        text-align: right;\n",
              "    }\n",
              "</style>\n",
              "<table border=\"1\" class=\"dataframe\">\n",
              "  <thead>\n",
              "    <tr style=\"text-align: right;\">\n",
              "      <th></th>\n",
              "      <th>user_a</th>\n",
              "      <th>clean_user_a</th>\n",
              "      <th>user_a_lower</th>\n",
              "    </tr>\n",
              "  </thead>\n",
              "  <tbody>\n",
              "    <tr>\n",
              "      <th>0</th>\n",
              "      <td>bạn tên gì?</td>\n",
              "      <td>bạn tên gì</td>\n",
              "      <td>bạn tên gì</td>\n",
              "    </tr>\n",
              "    <tr>\n",
              "      <th>1</th>\n",
              "      <td>Tui tên Nam &lt;eos&gt; Bạn học ở đâu?</td>\n",
              "      <td>Tui tên Nam eos Bạn học ở đâu</td>\n",
              "      <td>tui tên nam eos bạn học ở đâu</td>\n",
              "    </tr>\n",
              "    <tr>\n",
              "      <th>2</th>\n",
              "      <td>tui học ở TDTU luôn &lt;eos&gt; Bạn học ngành gì</td>\n",
              "      <td>tui học ở TDTU luôn eos Bạn học ngành gì</td>\n",
              "      <td>tui học ở tdtu luôn eos bạn học ngành gì</td>\n",
              "    </tr>\n",
              "    <tr>\n",
              "      <th>3</th>\n",
              "      <td>Chuyên ngành gì vậy bạn ?</td>\n",
              "      <td>Chuyên ngành gì vậy bạn</td>\n",
              "      <td>chuyên ngành gì vậy bạn</td>\n",
              "    </tr>\n",
              "    <tr>\n",
              "      <th>4</th>\n",
              "      <td>mình học Quản Trị Kinh Doanh &lt;eos&gt; Bạn là ngườ...</td>\n",
              "      <td>mình học Quản Trị Kinh Doanh eos Bạn là người ...</td>\n",
              "      <td>mình học quản trị kinh doanh eos bạn là người ...</td>\n",
              "    </tr>\n",
              "    <tr>\n",
              "      <th>...</th>\n",
              "      <td>...</td>\n",
              "      <td>...</td>\n",
              "      <td>...</td>\n",
              "    </tr>\n",
              "    <tr>\n",
              "      <th>7375</th>\n",
              "      <td>Nhà mày bao nhiêu người?</td>\n",
              "      <td>Nhà mày bao nhiêu người</td>\n",
              "      <td>nhà mày bao nhiêu người</td>\n",
              "    </tr>\n",
              "    <tr>\n",
              "      <th>7376</th>\n",
              "      <td>Có bao nhiêu anh chị em?</td>\n",
              "      <td>Có bao nhiêu anh chị em</td>\n",
              "      <td>có bao nhiêu anh chị em</td>\n",
              "    </tr>\n",
              "    <tr>\n",
              "      <th>7377</th>\n",
              "      <td>Mày là em út hay anh cả?</td>\n",
              "      <td>Mày là em út hay anh cả</td>\n",
              "      <td>mày là em út hay anh cả</td>\n",
              "    </tr>\n",
              "    <tr>\n",
              "      <th>7378</th>\n",
              "      <td>Bố mày làm nghề gì?</td>\n",
              "      <td>Bố mày làm nghề gì</td>\n",
              "      <td>bố mày làm nghề gì</td>\n",
              "    </tr>\n",
              "    <tr>\n",
              "      <th>7379</th>\n",
              "      <td>Chị mày làm ở đâu?</td>\n",
              "      <td>Chị mày làm ở đâu</td>\n",
              "      <td>chị mày làm ở đâu</td>\n",
              "    </tr>\n",
              "  </tbody>\n",
              "</table>\n",
              "<p>7380 rows × 3 columns</p>\n",
              "</div>"
            ],
            "text/plain": [
              "                                                 user_a  \\\n",
              "0                                           bạn tên gì?   \n",
              "1                      Tui tên Nam <eos> Bạn học ở đâu?   \n",
              "2            tui học ở TDTU luôn <eos> Bạn học ngành gì   \n",
              "3                             Chuyên ngành gì vậy bạn ?   \n",
              "4     mình học Quản Trị Kinh Doanh <eos> Bạn là ngườ...   \n",
              "...                                                 ...   \n",
              "7375                           Nhà mày bao nhiêu người?   \n",
              "7376                           Có bao nhiêu anh chị em?   \n",
              "7377                           Mày là em út hay anh cả?   \n",
              "7378                                Bố mày làm nghề gì?   \n",
              "7379                                 Chị mày làm ở đâu?   \n",
              "\n",
              "                                           clean_user_a  \\\n",
              "0                                            bạn tên gì   \n",
              "1                         Tui tên Nam eos Bạn học ở đâu   \n",
              "2              tui học ở TDTU luôn eos Bạn học ngành gì   \n",
              "3                              Chuyên ngành gì vậy bạn    \n",
              "4     mình học Quản Trị Kinh Doanh eos Bạn là người ...   \n",
              "...                                                 ...   \n",
              "7375                            Nhà mày bao nhiêu người   \n",
              "7376                            Có bao nhiêu anh chị em   \n",
              "7377                            Mày là em út hay anh cả   \n",
              "7378                                 Bố mày làm nghề gì   \n",
              "7379                                  Chị mày làm ở đâu   \n",
              "\n",
              "                                           user_a_lower  \n",
              "0                                            bạn tên gì  \n",
              "1                         tui tên nam eos bạn học ở đâu  \n",
              "2              tui học ở tdtu luôn eos bạn học ngành gì  \n",
              "3                              chuyên ngành gì vậy bạn   \n",
              "4     mình học quản trị kinh doanh eos bạn là người ...  \n",
              "...                                                 ...  \n",
              "7375                            nhà mày bao nhiêu người  \n",
              "7376                            có bao nhiêu anh chị em  \n",
              "7377                            mày là em út hay anh cả  \n",
              "7378                                 bố mày làm nghề gì  \n",
              "7379                                  chị mày làm ở đâu  \n",
              "\n",
              "[7380 rows x 3 columns]"
            ]
          },
          "execution_count": 14,
          "metadata": {},
          "output_type": "execute_result"
        }
      ],
      "source": [
        "# Punctuation Removal\n",
        "import string\n",
        "\n",
        "def remove_punctuation(text):\n",
        "    punctuationfree=\"\".join([i for i in text if i not in string.punctuation])\n",
        "    return punctuationfree\n",
        "df['clean_user_a']= df['user_a'].apply(lambda x:remove_punctuation(x))\n",
        "df['user_a_lower']= df['clean_user_a'].apply(lambda x: x.lower())\n",
        "df[['user_a','clean_user_a','user_a_lower']]"
      ]
    },
    {
      "cell_type": "code",
      "execution_count": 15,
      "metadata": {
        "colab": {
          "base_uri": "https://localhost:8080/"
        },
        "id": "OnqAk9EZbzCf",
        "outputId": "474371aa-cd27-4e5a-d802-9bd429b7c0cc"
      },
      "outputs": [
        {
          "data": {
            "text/plain": [
              "[['bạn', 'tên', 'gì'],\n",
              " ['tui', 'tên', 'nam', 'eos', 'bạn', 'học', 'ở', 'đâu'],\n",
              " ['tui', 'học', 'ở', 'tdtu', 'luôn', 'eos', 'bạn', 'học', 'ngành', 'gì'],\n",
              " ['chuyên', 'ngành', 'gì', 'vậy', 'bạn'],\n",
              " ['mình',\n",
              "  'học',\n",
              "  'quản trị',\n",
              "  'kinh doanh',\n",
              "  'eos',\n",
              "  'bạn',\n",
              "  'là',\n",
              "  'người',\n",
              "  'ở',\n",
              "  'đâu',\n",
              "  'vậy'],\n",
              " ['mình', 'biết', 'đồng', 'tháp', 'dưới', 'miền', 'tây', 'đúng', 'không'],\n",
              " ['còn',\n",
              "  'mình',\n",
              "  'ở',\n",
              "  'tphcm',\n",
              "  'luôn',\n",
              "  'nè',\n",
              "  'mình',\n",
              "  'ở',\n",
              "  'quận',\n",
              "  '4',\n",
              "  'eos',\n",
              "  'cuối',\n",
              "  'tuần',\n",
              "  'này',\n",
              "  'bạn',\n",
              "  'có',\n",
              "  'rãnh',\n",
              "  'không'],\n",
              " ['mình', 'tính', 'cuối', 'tuần', 'này', 'rủ', 'bạn', 'đi', 'coffee', 'nè'],\n",
              " ['đi', 'phúc', 'long', 'đối diện', 'trường', 'mình', 'nè'],\n",
              " ['được',\n",
              "  'luôn',\n",
              "  'bạn',\n",
              "  'sáng',\n",
              "  'mình',\n",
              "  'cũng',\n",
              "  'rãnh',\n",
              "  'eos',\n",
              "  'bạn',\n",
              "  'thích',\n",
              "  'ngôn ngữ',\n",
              "  'lập trình',\n",
              "  'nào',\n",
              "  'nhất']]"
            ]
          },
          "execution_count": 15,
          "metadata": {},
          "output_type": "execute_result"
        }
      ],
      "source": [
        "sentences = [word_tokenize(line) for line in df['user_a_lower']]\n",
        "sentences[:10]"
      ]
    },
    {
      "cell_type": "code",
      "execution_count": 16,
      "metadata": {
        "colab": {
          "base_uri": "https://localhost:8080/"
        },
        "id": "b-nnEEKikU4F",
        "outputId": "9dd8aea3-2ea5-4d8b-e87f-9947ddb7ae78"
      },
      "outputs": [
        {
          "name": "stdout",
          "output_type": "stream",
          "text": [
            "Cuộc sống bạn ổn không\n",
            "Cũng ổn\n"
          ]
        }
      ],
      "source": [
        "import warnings\n",
        "warnings.filterwarnings('ignore')\n",
        "\n",
        "def blue(candidate):\n",
        "  max_bleu = 0\n",
        "  max_id = 0\n",
        "  for line in range(0,len(sentences)):\n",
        "    t = sentence_bleu([sentences[line]], word_tokenize(candidate))\n",
        "    if t > max_bleu:\n",
        "      max_bleu = t\n",
        "      max_id = line\n",
        "  \n",
        "  return max_id\n",
        "\n",
        "candidate = 'Cuộc sống bạn ổn không'\n",
        "max_id = blue(candidate)\n",
        "print(candidate)\n",
        "print(df['user_b'][max_id])"
      ]
    },
    {
      "cell_type": "code",
      "execution_count": null,
      "metadata": {
        "colab": {
          "base_uri": "https://localhost:8080/"
        },
        "id": "CFbGFnD8J0mg",
        "outputId": "a8329dd4-15aa-49d9-cd93-5709cef81308"
      },
      "outputs": [
        {
          "name": "stdout",
          "output_type": "stream",
          "text": [
            "**************************\n",
            "*    start chatting      *\n",
            "*    input q to exit     *\n",
            "**************************\n",
            "you : đang làm gì đó?\n",
            "chatbot : Bấm điện thoại\n",
            "you : ăn trưa không\n",
            "chatbot : ok luôn\n",
            "you : ăn gì\n",
            "chatbot : gì cũng được\n",
            "you : ăn hủ tiếu không\n",
            "chatbot : không\n",
            "you : ăn phở nha\n",
            "chatbot : Đi anh ơi\n",
            "you : ăn ở đâu\n",
            "chatbot : KFC chứ đâu\n",
            "you : 15 phút nữa mình sang\n",
            "chatbot : Ok\n",
            "you : q\n",
            "chatbot : tạm biệt\n"
          ]
        }
      ],
      "source": [
        "print(\"**************************\")\n",
        "print(\"*    start chatting      *\")\n",
        "print(\"*    input q to exit     *\")\n",
        "print(\"**************************\")\n",
        "while True:\n",
        "  newMessage  = input(\"you : \")\n",
        "  if newMessage == 'q':\n",
        "    print(\"chatbot :\",\"tạm biệt\")\n",
        "    break\n",
        "  max_id = blue(newMessage)\n",
        "  print(\"chatbot :\",df['user_b'][max_id])"
      ]
    },
    {
      "cell_type": "code",
      "execution_count": null,
      "metadata": {},
      "outputs": [],
      "source": [
        "# **************************\n",
        "# *    start chatting      *\n",
        "# *    input q to exit     *\n",
        "# **************************\n",
        "# you : đang làm gì đó?\n",
        "# chatbot : Bấm điện thoại\n",
        "# you : ăn trưa không\n",
        "# chatbot : ok luôn\n",
        "# you : ăn gì\n",
        "# chatbot : gì cũng được\n",
        "# you : ăn hủ tiếu không\n",
        "# chatbot : không\n",
        "# you : ăn phở nha\n",
        "# chatbot : Đi anh ơi\n",
        "# you : ăn ở đâu\n",
        "# chatbot : KFC chứ đâu\n",
        "# you : 15 phút nữa mình sang\n",
        "# chatbot : Ok\n",
        "# you : q\n",
        "# chatbot : tạm biệt"
      ]
    },
    {
      "cell_type": "markdown",
      "metadata": {
        "id": "Tskc-H4_RH4G"
      },
      "source": [
        "# b)\tSử dụng Word2Vec và độ đo Euclid "
      ]
    },
    {
      "cell_type": "code",
      "execution_count": null,
      "metadata": {
        "colab": {
          "base_uri": "https://localhost:8080/"
        },
        "id": "Atfipgja2cWo",
        "outputId": "921283cd-2312-4ef5-c581-5badcc117b68"
      },
      "outputs": [],
      "source": [
        "# prepare tokenizer\n",
        "t = Tokenizer()\n",
        "t.fit_on_texts(sentences)\n",
        "word2id = t.word_index\n",
        "vocab_size = len(t.word_index) + 1\n",
        "print(vocab_size)\n",
        "print(t.index_word)"
      ]
    },
    {
      "cell_type": "code",
      "execution_count": 18,
      "metadata": {
        "colab": {
          "base_uri": "https://localhost:8080/"
        },
        "id": "gsGsPwlv6LY6",
        "outputId": "cd737771-e8c9-4747-f615-370389b911d5"
      },
      "outputs": [
        {
          "data": {
            "text/plain": [
              "[[3, 28, 4],\n",
              " [79, 28, 139, 18, 3, 16, 7, 8],\n",
              " [79, 16, 7, 531, 136, 18, 3, 16, 80, 4],\n",
              " [912, 80, 4, 19, 3],\n",
              " [15, 16, 1162, 913, 18, 3, 13, 38, 7, 8, 19],\n",
              " [15, 61, 532, 1163, 481, 264, 672, 174, 1],\n",
              " [56, 15, 7, 914, 136, 116, 15, 7, 180, 243, 18, 119, 117, 27, 3, 2, 181, 1],\n",
              " [15, 144, 119, 117, 27, 168, 3, 5, 1591, 116],\n",
              " [5, 915, 392, 772, 32, 15, 116],\n",
              " [25, 136, 3, 265, 15, 52, 181, 18, 3, 11, 533, 916, 9, 57]]"
            ]
          },
          "execution_count": 18,
          "metadata": {},
          "output_type": "execute_result"
        }
      ],
      "source": [
        "wids = [[word2id[w] for w in doc] for doc in sentences]\n",
        "wids[:10]"
      ]
    },
    {
      "cell_type": "code",
      "execution_count": 19,
      "metadata": {
        "colab": {
          "base_uri": "https://localhost:8080/"
        },
        "id": "CeZoe7Ys6Mg2",
        "outputId": "90917a5b-5643-4ac1-8c5e-1694963cc88e"
      },
      "outputs": [
        {
          "data": {
            "text/plain": [
              "([[3, 4],\n",
              "  [28, 4],\n",
              "  [4, 28],\n",
              "  [4, 3],\n",
              "  [28, 656],\n",
              "  [4, 1965],\n",
              "  [3, 1387],\n",
              "  [4, 444],\n",
              "  [28, 548],\n",
              "  [3, 2689],\n",
              "  [28, 3],\n",
              "  [3, 28]],\n",
              " [1, 1, 1, 1, 0, 0, 0, 0, 0, 0, 1, 1])"
            ]
          },
          "execution_count": 19,
          "metadata": {},
          "output_type": "execute_result"
        }
      ],
      "source": [
        "from keras.preprocessing.sequence import skipgrams\n",
        "\n",
        "# generate skip-grams\n",
        "skip_grams = [skipgrams(wid, vocabulary_size=vocab_size, window_size=2) for wid in wids]\n",
        "skip_grams[0]"
      ]
    },
    {
      "cell_type": "code",
      "execution_count": 20,
      "metadata": {
        "colab": {
          "base_uri": "https://localhost:8080/"
        },
        "id": "AWO9FL1E6SWh",
        "outputId": "9bc69f4c-b81d-4154-c9a4-5c124d15a647"
      },
      "outputs": [
        {
          "name": "stdout",
          "output_type": "stream",
          "text": [
            "['bạn', 'tên', 'gì']\n",
            "(bạn (3), gì (4)) -> 1\n",
            "(tên (28), gì (4)) -> 1\n",
            "(gì (4), tên (28)) -> 1\n",
            "(gì (4), bạn (3)) -> 1\n",
            "(tên (28), thể (656)) -> 0\n",
            "(gì (4), out (1965)) -> 0\n",
            "(bạn (3), cha (1387)) -> 0\n",
            "(gì (4), đôi (444)) -> 0\n",
            "(tên (28), hẹn hò (548)) -> 0\n",
            "(bạn (3), công khai (2689)) -> 0\n",
            "(tên (28), bạn (3)) -> 1\n",
            "(bạn (3), tên (28)) -> 1\n"
          ]
        },
        {
          "ename": "IndexError",
          "evalue": "list index out of range",
          "output_type": "error",
          "traceback": [
            "\u001b[1;31m---------------------------------------------------------------------------\u001b[0m",
            "\u001b[1;31mIndexError\u001b[0m                                Traceback (most recent call last)",
            "\u001b[1;32m~\\AppData\\Local\\Temp\\ipykernel_33980\\1704389409.py\u001b[0m in \u001b[0;36m<module>\u001b[1;34m\u001b[0m\n\u001b[0;32m      3\u001b[0m \u001b[1;32mfor\u001b[0m \u001b[0mi\u001b[0m \u001b[1;32min\u001b[0m \u001b[0mrange\u001b[0m\u001b[1;33m(\u001b[0m\u001b[1;36m15\u001b[0m\u001b[1;33m)\u001b[0m\u001b[1;33m:\u001b[0m\u001b[1;33m\u001b[0m\u001b[1;33m\u001b[0m\u001b[0m\n\u001b[0;32m      4\u001b[0m     print(\"({:s} ({:d}), {:s} ({:d})) -> {:d}\".format(\n\u001b[1;32m----> 5\u001b[1;33m           \u001b[0mt\u001b[0m\u001b[1;33m.\u001b[0m\u001b[0mindex_word\u001b[0m\u001b[1;33m[\u001b[0m\u001b[0mpairs\u001b[0m\u001b[1;33m[\u001b[0m\u001b[0mi\u001b[0m\u001b[1;33m]\u001b[0m\u001b[1;33m[\u001b[0m\u001b[1;36m0\u001b[0m\u001b[1;33m]\u001b[0m\u001b[1;33m]\u001b[0m\u001b[1;33m,\u001b[0m \u001b[0mpairs\u001b[0m\u001b[1;33m[\u001b[0m\u001b[0mi\u001b[0m\u001b[1;33m]\u001b[0m\u001b[1;33m[\u001b[0m\u001b[1;36m0\u001b[0m\u001b[1;33m]\u001b[0m\u001b[1;33m,\u001b[0m\u001b[1;33m\u001b[0m\u001b[1;33m\u001b[0m\u001b[0m\n\u001b[0m\u001b[0;32m      6\u001b[0m           \u001b[0mt\u001b[0m\u001b[1;33m.\u001b[0m\u001b[0mindex_word\u001b[0m\u001b[1;33m[\u001b[0m\u001b[0mpairs\u001b[0m\u001b[1;33m[\u001b[0m\u001b[0mi\u001b[0m\u001b[1;33m]\u001b[0m\u001b[1;33m[\u001b[0m\u001b[1;36m1\u001b[0m\u001b[1;33m]\u001b[0m\u001b[1;33m]\u001b[0m\u001b[1;33m,\u001b[0m \u001b[0mpairs\u001b[0m\u001b[1;33m[\u001b[0m\u001b[0mi\u001b[0m\u001b[1;33m]\u001b[0m\u001b[1;33m[\u001b[0m\u001b[1;36m1\u001b[0m\u001b[1;33m]\u001b[0m\u001b[1;33m,\u001b[0m\u001b[1;33m\u001b[0m\u001b[1;33m\u001b[0m\u001b[0m\n\u001b[0;32m      7\u001b[0m           labels[i]))\n",
            "\u001b[1;31mIndexError\u001b[0m: list index out of range"
          ]
        }
      ],
      "source": [
        "pairs, labels = skip_grams[0][0], skip_grams[0][1]\n",
        "print(sentences[0])\n",
        "for i in range(15):\n",
        "    print(\"({:s} ({:d}), {:s} ({:d})) -> {:d}\".format(\n",
        "          t.index_word[pairs[i][0]], pairs[i][0], \n",
        "          t.index_word[pairs[i][1]], pairs[i][1], \n",
        "          labels[i]))"
      ]
    },
    {
      "cell_type": "code",
      "execution_count": 22,
      "metadata": {
        "colab": {
          "base_uri": "https://localhost:8080/"
        },
        "id": "fDoZmlD4HlPw",
        "outputId": "13612e6e-a716-4159-df9a-6e3545c984cc"
      },
      "outputs": [
        {
          "name": "stdout",
          "output_type": "stream",
          "text": [
            "Model: \"model\"\n",
            "__________________________________________________________________________________________________\n",
            " Layer (type)                   Output Shape         Param #     Connected to                     \n",
            "==================================================================================================\n",
            " input_1 (InputLayer)           [(None, 1)]          0           []                               \n",
            "                                                                                                  \n",
            " input_2 (InputLayer)           [(None, 1)]          0           []                               \n",
            "                                                                                                  \n",
            " embedding (Embedding)          (None, 1, 400)       1199200     ['input_1[0][0]',                \n",
            "                                                                  'input_2[0][0]']                \n",
            "                                                                                                  \n",
            " reshape (Reshape)              (None, 400, 1)       0           ['embedding[0][0]']              \n",
            "                                                                                                  \n",
            " reshape_1 (Reshape)            (None, 400, 1)       0           ['embedding[1][0]']              \n",
            "                                                                                                  \n",
            " dot (Dot)                      (None, 1, 1)         0           ['reshape[0][0]',                \n",
            "                                                                  'reshape_1[0][0]']              \n",
            "                                                                                                  \n",
            " reshape_2 (Reshape)            (None, 1)            0           ['dot[0][0]']                    \n",
            "                                                                                                  \n",
            " dense (Dense)                  (None, 1)            2           ['reshape_2[0][0]']              \n",
            "                                                                                                  \n",
            "==================================================================================================\n",
            "Total params: 1,199,202\n",
            "Trainable params: 1,199,202\n",
            "Non-trainable params: 0\n",
            "__________________________________________________________________________________________________\n",
            "None\n"
          ]
        }
      ],
      "source": [
        "from keras.layers import Input\n",
        "from keras.models import Model\n",
        "# from keras.layers.embeddings import Embedding\n",
        "from keras.layers import Embedding\n",
        "from keras.layers.core import Dense, Reshape\n",
        "from keras.layers import dot\n",
        "\n",
        "embed_size = 400\n",
        "input_target = Input((1,))\n",
        "input_context = Input((1,))\n",
        "\n",
        "embedding = Embedding(vocab_size, embed_size, input_length=1, name='embedding')\n",
        "\n",
        "word_embedding = embedding(input_target)\n",
        "word_embedding = Reshape((embed_size, 1))(word_embedding)\n",
        "context_embedding = embedding(input_context)\n",
        "context_embedding = Reshape((embed_size, 1))(context_embedding)\n",
        " \n",
        "dot_product = dot([word_embedding, context_embedding], axes=1)\n",
        "dot_product = Reshape((1,))(dot_product)\n",
        "\n",
        "output = Dense(1, activation='sigmoid')(dot_product)\n",
        "\n",
        "model = Model(inputs=[input_target, input_context], outputs=output)\n",
        "model.compile(loss='mean_squared_error', optimizer='rmsprop')\n",
        "\n",
        "print(model.summary())"
      ]
    },
    {
      "cell_type": "code",
      "execution_count": 23,
      "metadata": {
        "colab": {
          "base_uri": "https://localhost:8080/"
        },
        "id": "E4K8vjml65ps",
        "outputId": "34ec62aa-f1f5-471a-cdac-5c1144e0ba9c"
      },
      "outputs": [
        {
          "name": "stdout",
          "output_type": "stream",
          "text": [
            "Epoch: 0 Loss: 1260.8265806819254\n",
            "Epoch: 1 Loss: 1147.2681394497267\n",
            "Epoch: 2 Loss: 1115.0315442279025\n",
            "Epoch: 3 Loss: 1103.3712853053803\n",
            "Epoch: 4 Loss: 1098.3239084510642\n",
            "Epoch: 5 Loss: 1095.83362436256\n",
            "Epoch: 6 Loss: 1094.6279159171827\n",
            "Epoch: 7 Loss: 1094.1569566896214\n",
            "Epoch: 8 Loss: 1094.1562129269078\n",
            "Epoch: 9 Loss: 1094.495574378525\n"
          ]
        }
      ],
      "source": [
        "for epoch in range(0, 10):\n",
        "    loss = 0\n",
        "    for i, elem in enumerate(skip_grams):\n",
        "        # print('i = ',i,'elem = ',elem)\n",
        "        if elem[0] == []:\n",
        "          continue\n",
        "        pair_first_elem = np.array(list(zip(*elem[0]))[0], dtype='int32')\n",
        "        pair_second_elem = np.array(list(zip(*elem[0]))[1], dtype='int32')\n",
        "        labels = np.array(elem[1], dtype='int32')\n",
        "        X = [pair_first_elem, pair_second_elem]\n",
        "        Y = labels\n",
        "\n",
        "        loss += model.train_on_batch(X,Y)  \n",
        "\n",
        "    print('Epoch:', epoch, 'Loss:', loss)"
      ]
    },
    {
      "cell_type": "code",
      "execution_count": 26,
      "metadata": {
        "colab": {
          "base_uri": "https://localhost:8080/",
          "height": 506
        },
        "id": "JJ7W-2mVBBqg",
        "outputId": "6209ac27-867f-472b-a79f-11f1575ff199"
      },
      "outputs": [
        {
          "name": "stdout",
          "output_type": "stream",
          "text": [
            "(2997, 400)\n"
          ]
        },
        {
          "data": {
            "text/html": [
              "<div>\n",
              "<style scoped>\n",
              "    .dataframe tbody tr th:only-of-type {\n",
              "        vertical-align: middle;\n",
              "    }\n",
              "\n",
              "    .dataframe tbody tr th {\n",
              "        vertical-align: top;\n",
              "    }\n",
              "\n",
              "    .dataframe thead th {\n",
              "        text-align: right;\n",
              "    }\n",
              "</style>\n",
              "<table border=\"1\" class=\"dataframe\">\n",
              "  <thead>\n",
              "    <tr style=\"text-align: right;\">\n",
              "      <th></th>\n",
              "      <th>0</th>\n",
              "      <th>1</th>\n",
              "      <th>2</th>\n",
              "      <th>3</th>\n",
              "      <th>4</th>\n",
              "      <th>5</th>\n",
              "      <th>6</th>\n",
              "      <th>7</th>\n",
              "      <th>8</th>\n",
              "      <th>9</th>\n",
              "      <th>...</th>\n",
              "      <th>390</th>\n",
              "      <th>391</th>\n",
              "      <th>392</th>\n",
              "      <th>393</th>\n",
              "      <th>394</th>\n",
              "      <th>395</th>\n",
              "      <th>396</th>\n",
              "      <th>397</th>\n",
              "      <th>398</th>\n",
              "      <th>399</th>\n",
              "    </tr>\n",
              "  </thead>\n",
              "  <tbody>\n",
              "    <tr>\n",
              "      <th>không</th>\n",
              "      <td>-4.455145</td>\n",
              "      <td>0.478993</td>\n",
              "      <td>1.533078</td>\n",
              "      <td>-0.073596</td>\n",
              "      <td>0.455232</td>\n",
              "      <td>1.342729</td>\n",
              "      <td>0.478562</td>\n",
              "      <td>-2.815515</td>\n",
              "      <td>0.161068</td>\n",
              "      <td>0.600934</td>\n",
              "      <td>...</td>\n",
              "      <td>-0.445684</td>\n",
              "      <td>1.545106</td>\n",
              "      <td>1.041564</td>\n",
              "      <td>1.812963</td>\n",
              "      <td>-0.081663</td>\n",
              "      <td>-4.084830</td>\n",
              "      <td>2.517688</td>\n",
              "      <td>1.660002</td>\n",
              "      <td>-0.794264</td>\n",
              "      <td>0.837643</td>\n",
              "    </tr>\n",
              "    <tr>\n",
              "      <th>có</th>\n",
              "      <td>-0.459220</td>\n",
              "      <td>0.635046</td>\n",
              "      <td>1.350138</td>\n",
              "      <td>0.183445</td>\n",
              "      <td>-0.081955</td>\n",
              "      <td>1.386434</td>\n",
              "      <td>0.300067</td>\n",
              "      <td>1.478432</td>\n",
              "      <td>-0.044516</td>\n",
              "      <td>1.950213</td>\n",
              "      <td>...</td>\n",
              "      <td>-0.987272</td>\n",
              "      <td>-2.033924</td>\n",
              "      <td>-0.673144</td>\n",
              "      <td>-0.060245</td>\n",
              "      <td>1.192734</td>\n",
              "      <td>-1.099205</td>\n",
              "      <td>3.464785</td>\n",
              "      <td>1.503690</td>\n",
              "      <td>3.801477</td>\n",
              "      <td>0.025278</td>\n",
              "    </tr>\n",
              "    <tr>\n",
              "      <th>bạn</th>\n",
              "      <td>0.417472</td>\n",
              "      <td>-0.715568</td>\n",
              "      <td>1.517480</td>\n",
              "      <td>0.800126</td>\n",
              "      <td>-0.747393</td>\n",
              "      <td>-1.205578</td>\n",
              "      <td>0.423708</td>\n",
              "      <td>-1.424603</td>\n",
              "      <td>-0.854578</td>\n",
              "      <td>2.070962</td>\n",
              "      <td>...</td>\n",
              "      <td>-1.063569</td>\n",
              "      <td>-3.335137</td>\n",
              "      <td>2.059341</td>\n",
              "      <td>-1.481466</td>\n",
              "      <td>0.243240</td>\n",
              "      <td>-0.138777</td>\n",
              "      <td>2.984423</td>\n",
              "      <td>1.598934</td>\n",
              "      <td>3.053946</td>\n",
              "      <td>0.707018</td>\n",
              "    </tr>\n",
              "    <tr>\n",
              "      <th>gì</th>\n",
              "      <td>0.801491</td>\n",
              "      <td>-0.693707</td>\n",
              "      <td>-0.397485</td>\n",
              "      <td>0.013468</td>\n",
              "      <td>-1.085431</td>\n",
              "      <td>-0.669190</td>\n",
              "      <td>0.556483</td>\n",
              "      <td>-0.612736</td>\n",
              "      <td>-0.548655</td>\n",
              "      <td>2.155066</td>\n",
              "      <td>...</td>\n",
              "      <td>-1.088802</td>\n",
              "      <td>-2.438870</td>\n",
              "      <td>1.484580</td>\n",
              "      <td>1.622620</td>\n",
              "      <td>1.478590</td>\n",
              "      <td>-0.572223</td>\n",
              "      <td>3.279313</td>\n",
              "      <td>1.168636</td>\n",
              "      <td>3.528351</td>\n",
              "      <td>1.639949</td>\n",
              "    </tr>\n",
              "    <tr>\n",
              "      <th>đi</th>\n",
              "      <td>0.119332</td>\n",
              "      <td>-1.051064</td>\n",
              "      <td>-1.184523</td>\n",
              "      <td>1.337369</td>\n",
              "      <td>-0.875748</td>\n",
              "      <td>-1.443524</td>\n",
              "      <td>0.668860</td>\n",
              "      <td>-2.653937</td>\n",
              "      <td>-0.599493</td>\n",
              "      <td>3.014630</td>\n",
              "      <td>...</td>\n",
              "      <td>-1.327710</td>\n",
              "      <td>-0.418071</td>\n",
              "      <td>2.005838</td>\n",
              "      <td>1.765002</td>\n",
              "      <td>0.561932</td>\n",
              "      <td>0.326511</td>\n",
              "      <td>1.205037</td>\n",
              "      <td>1.421050</td>\n",
              "      <td>-2.172567</td>\n",
              "      <td>-0.012515</td>\n",
              "    </tr>\n",
              "    <tr>\n",
              "      <th>...</th>\n",
              "      <td>...</td>\n",
              "      <td>...</td>\n",
              "      <td>...</td>\n",
              "      <td>...</td>\n",
              "      <td>...</td>\n",
              "      <td>...</td>\n",
              "      <td>...</td>\n",
              "      <td>...</td>\n",
              "      <td>...</td>\n",
              "      <td>...</td>\n",
              "      <td>...</td>\n",
              "      <td>...</td>\n",
              "      <td>...</td>\n",
              "      <td>...</td>\n",
              "      <td>...</td>\n",
              "      <td>...</td>\n",
              "      <td>...</td>\n",
              "      <td>...</td>\n",
              "      <td>...</td>\n",
              "      <td>...</td>\n",
              "      <td>...</td>\n",
              "    </tr>\n",
              "    <tr>\n",
              "      <th>ruột</th>\n",
              "      <td>-0.069675</td>\n",
              "      <td>0.183172</td>\n",
              "      <td>-0.075308</td>\n",
              "      <td>-0.352660</td>\n",
              "      <td>0.316951</td>\n",
              "      <td>0.267559</td>\n",
              "      <td>-0.344167</td>\n",
              "      <td>0.253430</td>\n",
              "      <td>0.202614</td>\n",
              "      <td>-0.376453</td>\n",
              "      <td>...</td>\n",
              "      <td>0.294361</td>\n",
              "      <td>0.232183</td>\n",
              "      <td>-0.268291</td>\n",
              "      <td>-0.331619</td>\n",
              "      <td>-0.331592</td>\n",
              "      <td>-0.070576</td>\n",
              "      <td>-0.314324</td>\n",
              "      <td>-0.339956</td>\n",
              "      <td>-0.109202</td>\n",
              "      <td>-0.194799</td>\n",
              "    </tr>\n",
              "    <tr>\n",
              "      <th>nội ngoại</th>\n",
              "      <td>-0.238123</td>\n",
              "      <td>0.425722</td>\n",
              "      <td>-0.498322</td>\n",
              "      <td>-0.348847</td>\n",
              "      <td>0.380741</td>\n",
              "      <td>0.397564</td>\n",
              "      <td>-0.494957</td>\n",
              "      <td>0.422894</td>\n",
              "      <td>0.303767</td>\n",
              "      <td>-0.245704</td>\n",
              "      <td>...</td>\n",
              "      <td>0.522750</td>\n",
              "      <td>0.443184</td>\n",
              "      <td>-0.440309</td>\n",
              "      <td>-0.336196</td>\n",
              "      <td>-0.401741</td>\n",
              "      <td>-0.297569</td>\n",
              "      <td>-0.295356</td>\n",
              "      <td>-0.323639</td>\n",
              "      <td>-0.337634</td>\n",
              "      <td>-0.286470</td>\n",
              "    </tr>\n",
              "    <tr>\n",
              "      <th>bme</th>\n",
              "      <td>-0.441786</td>\n",
              "      <td>0.527095</td>\n",
              "      <td>-0.307128</td>\n",
              "      <td>-0.409318</td>\n",
              "      <td>0.349113</td>\n",
              "      <td>0.670163</td>\n",
              "      <td>-0.454369</td>\n",
              "      <td>0.300731</td>\n",
              "      <td>0.497565</td>\n",
              "      <td>-0.148799</td>\n",
              "      <td>...</td>\n",
              "      <td>0.476441</td>\n",
              "      <td>0.436414</td>\n",
              "      <td>-0.375764</td>\n",
              "      <td>-0.378880</td>\n",
              "      <td>-0.336960</td>\n",
              "      <td>-0.455281</td>\n",
              "      <td>-0.493796</td>\n",
              "      <td>-0.432233</td>\n",
              "      <td>-0.399628</td>\n",
              "      <td>-0.256421</td>\n",
              "    </tr>\n",
              "    <tr>\n",
              "      <th>vô duyên</th>\n",
              "      <td>-0.610372</td>\n",
              "      <td>0.716103</td>\n",
              "      <td>-0.646132</td>\n",
              "      <td>-0.608660</td>\n",
              "      <td>0.630604</td>\n",
              "      <td>0.623746</td>\n",
              "      <td>-0.590829</td>\n",
              "      <td>0.290480</td>\n",
              "      <td>0.559694</td>\n",
              "      <td>-0.395449</td>\n",
              "      <td>...</td>\n",
              "      <td>0.586203</td>\n",
              "      <td>0.605412</td>\n",
              "      <td>-0.564773</td>\n",
              "      <td>-0.475972</td>\n",
              "      <td>-0.622178</td>\n",
              "      <td>-0.428881</td>\n",
              "      <td>-0.583238</td>\n",
              "      <td>-0.650619</td>\n",
              "      <td>-0.524544</td>\n",
              "      <td>-0.611067</td>\n",
              "    </tr>\n",
              "    <tr>\n",
              "      <th>chị gái</th>\n",
              "      <td>-0.217915</td>\n",
              "      <td>0.137021</td>\n",
              "      <td>-0.201835</td>\n",
              "      <td>-0.128787</td>\n",
              "      <td>0.289617</td>\n",
              "      <td>0.220298</td>\n",
              "      <td>-0.298534</td>\n",
              "      <td>0.277523</td>\n",
              "      <td>0.070523</td>\n",
              "      <td>-0.189198</td>\n",
              "      <td>...</td>\n",
              "      <td>0.357194</td>\n",
              "      <td>0.092063</td>\n",
              "      <td>-0.155498</td>\n",
              "      <td>-0.192975</td>\n",
              "      <td>-0.219756</td>\n",
              "      <td>0.033484</td>\n",
              "      <td>-0.471669</td>\n",
              "      <td>-0.188647</td>\n",
              "      <td>-0.293707</td>\n",
              "      <td>-0.428339</td>\n",
              "    </tr>\n",
              "  </tbody>\n",
              "</table>\n",
              "<p>2997 rows × 400 columns</p>\n",
              "</div>"
            ],
            "text/plain": [
              "                0         1         2         3         4         5    \\\n",
              "không     -4.455145  0.478993  1.533078 -0.073596  0.455232  1.342729   \n",
              "có        -0.459220  0.635046  1.350138  0.183445 -0.081955  1.386434   \n",
              "bạn        0.417472 -0.715568  1.517480  0.800126 -0.747393 -1.205578   \n",
              "gì         0.801491 -0.693707 -0.397485  0.013468 -1.085431 -0.669190   \n",
              "đi         0.119332 -1.051064 -1.184523  1.337369 -0.875748 -1.443524   \n",
              "...             ...       ...       ...       ...       ...       ...   \n",
              "ruột      -0.069675  0.183172 -0.075308 -0.352660  0.316951  0.267559   \n",
              "nội ngoại -0.238123  0.425722 -0.498322 -0.348847  0.380741  0.397564   \n",
              "bme       -0.441786  0.527095 -0.307128 -0.409318  0.349113  0.670163   \n",
              "vô duyên  -0.610372  0.716103 -0.646132 -0.608660  0.630604  0.623746   \n",
              "chị gái   -0.217915  0.137021 -0.201835 -0.128787  0.289617  0.220298   \n",
              "\n",
              "                6         7         8         9    ...       390       391  \\\n",
              "không      0.478562 -2.815515  0.161068  0.600934  ... -0.445684  1.545106   \n",
              "có         0.300067  1.478432 -0.044516  1.950213  ... -0.987272 -2.033924   \n",
              "bạn        0.423708 -1.424603 -0.854578  2.070962  ... -1.063569 -3.335137   \n",
              "gì         0.556483 -0.612736 -0.548655  2.155066  ... -1.088802 -2.438870   \n",
              "đi         0.668860 -2.653937 -0.599493  3.014630  ... -1.327710 -0.418071   \n",
              "...             ...       ...       ...       ...  ...       ...       ...   \n",
              "ruột      -0.344167  0.253430  0.202614 -0.376453  ...  0.294361  0.232183   \n",
              "nội ngoại -0.494957  0.422894  0.303767 -0.245704  ...  0.522750  0.443184   \n",
              "bme       -0.454369  0.300731  0.497565 -0.148799  ...  0.476441  0.436414   \n",
              "vô duyên  -0.590829  0.290480  0.559694 -0.395449  ...  0.586203  0.605412   \n",
              "chị gái   -0.298534  0.277523  0.070523 -0.189198  ...  0.357194  0.092063   \n",
              "\n",
              "                392       393       394       395       396       397  \\\n",
              "không      1.041564  1.812963 -0.081663 -4.084830  2.517688  1.660002   \n",
              "có        -0.673144 -0.060245  1.192734 -1.099205  3.464785  1.503690   \n",
              "bạn        2.059341 -1.481466  0.243240 -0.138777  2.984423  1.598934   \n",
              "gì         1.484580  1.622620  1.478590 -0.572223  3.279313  1.168636   \n",
              "đi         2.005838  1.765002  0.561932  0.326511  1.205037  1.421050   \n",
              "...             ...       ...       ...       ...       ...       ...   \n",
              "ruột      -0.268291 -0.331619 -0.331592 -0.070576 -0.314324 -0.339956   \n",
              "nội ngoại -0.440309 -0.336196 -0.401741 -0.297569 -0.295356 -0.323639   \n",
              "bme       -0.375764 -0.378880 -0.336960 -0.455281 -0.493796 -0.432233   \n",
              "vô duyên  -0.564773 -0.475972 -0.622178 -0.428881 -0.583238 -0.650619   \n",
              "chị gái   -0.155498 -0.192975 -0.219756  0.033484 -0.471669 -0.188647   \n",
              "\n",
              "                398       399  \n",
              "không     -0.794264  0.837643  \n",
              "có         3.801477  0.025278  \n",
              "bạn        3.053946  0.707018  \n",
              "gì         3.528351  1.639949  \n",
              "đi        -2.172567 -0.012515  \n",
              "...             ...       ...  \n",
              "ruột      -0.109202 -0.194799  \n",
              "nội ngoại -0.337634 -0.286470  \n",
              "bme       -0.399628 -0.256421  \n",
              "vô duyên  -0.524544 -0.611067  \n",
              "chị gái   -0.293707 -0.428339  \n",
              "\n",
              "[2997 rows x 400 columns]"
            ]
          },
          "execution_count": 26,
          "metadata": {},
          "output_type": "execute_result"
        }
      ],
      "source": [
        "T = model.layers[2]\n",
        "weights = T.get_weights()[0][1:]\n",
        "\n",
        "print(weights.shape)\n",
        "df_embedding = pd.DataFrame(weights, index=t.index_word.values())\n",
        "df_embedding"
      ]
    },
    {
      "cell_type": "code",
      "execution_count": 27,
      "metadata": {
        "colab": {
          "base_uri": "https://localhost:8080/",
          "height": 36
        },
        "id": "iy6ttoEDBDHx",
        "outputId": "92751bdd-469c-484a-873e-0765b0fae372"
      },
      "outputs": [
        {
          "ename": "ValueError",
          "evalue": "Input vector should be 1-D.",
          "output_type": "error",
          "traceback": [
            "\u001b[1;31m---------------------------------------------------------------------------\u001b[0m",
            "\u001b[1;31mValueError\u001b[0m                                Traceback (most recent call last)",
            "\u001b[1;32m~\\AppData\\Local\\Temp\\ipykernel_33980\\4111755589.py\u001b[0m in \u001b[0;36m<module>\u001b[1;34m\u001b[0m\n\u001b[0;32m     28\u001b[0m   \u001b[1;32mreturn\u001b[0m \u001b[0mmax_id\u001b[0m\u001b[1;33m\u001b[0m\u001b[1;33m\u001b[0m\u001b[0m\n\u001b[0;32m     29\u001b[0m \u001b[1;33m\u001b[0m\u001b[0m\n\u001b[1;32m---> 30\u001b[1;33m \u001b[0mmax_id\u001b[0m \u001b[1;33m=\u001b[0m \u001b[0mcompare\u001b[0m\u001b[1;33m(\u001b[0m\u001b[1;34m'Bạn học trường nào?'\u001b[0m\u001b[1;33m)\u001b[0m\u001b[1;33m\u001b[0m\u001b[1;33m\u001b[0m\u001b[0m\n\u001b[0m\u001b[0;32m     31\u001b[0m \u001b[0mdf\u001b[0m\u001b[1;33m[\u001b[0m\u001b[1;34m'user_b'\u001b[0m\u001b[1;33m]\u001b[0m\u001b[1;33m[\u001b[0m\u001b[0mmax_id\u001b[0m\u001b[1;33m]\u001b[0m\u001b[1;33m\u001b[0m\u001b[1;33m\u001b[0m\u001b[0m\n",
            "\u001b[1;32m~\\AppData\\Local\\Temp\\ipykernel_33980\\4111755589.py\u001b[0m in \u001b[0;36mcompare\u001b[1;34m(query)\u001b[0m\n\u001b[0;32m     21\u001b[0m \u001b[1;33m\u001b[0m\u001b[0m\n\u001b[0;32m     22\u001b[0m     \u001b[1;31m#compare sentence(M) and query\u001b[0m\u001b[1;33m\u001b[0m\u001b[1;33m\u001b[0m\u001b[1;33m\u001b[0m\u001b[0m\n\u001b[1;32m---> 23\u001b[1;33m     \u001b[0mcs\u001b[0m \u001b[1;33m=\u001b[0m \u001b[1;36m1\u001b[0m \u001b[1;33m-\u001b[0m \u001b[0mspatial\u001b[0m\u001b[1;33m.\u001b[0m\u001b[0mdistance\u001b[0m\u001b[1;33m.\u001b[0m\u001b[0mcosine\u001b[0m\u001b[1;33m(\u001b[0m\u001b[0msum_query_arr\u001b[0m\u001b[1;33m,\u001b[0m \u001b[0msum_arr\u001b[0m\u001b[1;33m)\u001b[0m\u001b[1;33m\u001b[0m\u001b[1;33m\u001b[0m\u001b[0m\n\u001b[0m\u001b[0;32m     24\u001b[0m     \u001b[1;32mif\u001b[0m \u001b[0mcs\u001b[0m \u001b[1;33m>\u001b[0m \u001b[0mmax_cs\u001b[0m\u001b[1;33m:\u001b[0m\u001b[1;33m\u001b[0m\u001b[1;33m\u001b[0m\u001b[0m\n\u001b[0;32m     25\u001b[0m       \u001b[0mmax_cs\u001b[0m \u001b[1;33m=\u001b[0m \u001b[0mcs\u001b[0m\u001b[1;33m\u001b[0m\u001b[1;33m\u001b[0m\u001b[0m\n",
            "\u001b[1;32mc:\\Users\\Nguyen Quoc Hop\\anaconda3\\envs\\deeplearning\\lib\\site-packages\\scipy\\spatial\\distance.py\u001b[0m in \u001b[0;36mcosine\u001b[1;34m(u, v, w)\u001b[0m\n\u001b[0;32m    668\u001b[0m     \u001b[1;31m#   or 'reflective correlation'\u001b[0m\u001b[1;33m\u001b[0m\u001b[1;33m\u001b[0m\u001b[1;33m\u001b[0m\u001b[0m\n\u001b[0;32m    669\u001b[0m     \u001b[1;31m# clamp the result to 0-2\u001b[0m\u001b[1;33m\u001b[0m\u001b[1;33m\u001b[0m\u001b[1;33m\u001b[0m\u001b[0m\n\u001b[1;32m--> 670\u001b[1;33m     \u001b[1;32mreturn\u001b[0m \u001b[0mmax\u001b[0m\u001b[1;33m(\u001b[0m\u001b[1;36m0\u001b[0m\u001b[1;33m,\u001b[0m \u001b[0mmin\u001b[0m\u001b[1;33m(\u001b[0m\u001b[0mcorrelation\u001b[0m\u001b[1;33m(\u001b[0m\u001b[0mu\u001b[0m\u001b[1;33m,\u001b[0m \u001b[0mv\u001b[0m\u001b[1;33m,\u001b[0m \u001b[0mw\u001b[0m\u001b[1;33m=\u001b[0m\u001b[0mw\u001b[0m\u001b[1;33m,\u001b[0m \u001b[0mcentered\u001b[0m\u001b[1;33m=\u001b[0m\u001b[1;32mFalse\u001b[0m\u001b[1;33m)\u001b[0m\u001b[1;33m,\u001b[0m \u001b[1;36m2.0\u001b[0m\u001b[1;33m)\u001b[0m\u001b[1;33m)\u001b[0m\u001b[1;33m\u001b[0m\u001b[1;33m\u001b[0m\u001b[0m\n\u001b[0m\u001b[0;32m    671\u001b[0m \u001b[1;33m\u001b[0m\u001b[0m\n\u001b[0;32m    672\u001b[0m \u001b[1;33m\u001b[0m\u001b[0m\n",
            "\u001b[1;32mc:\\Users\\Nguyen Quoc Hop\\anaconda3\\envs\\deeplearning\\lib\\site-packages\\scipy\\spatial\\distance.py\u001b[0m in \u001b[0;36mcorrelation\u001b[1;34m(u, v, w, centered)\u001b[0m\n\u001b[0;32m    609\u001b[0m     \"\"\"\n\u001b[0;32m    610\u001b[0m     \u001b[0mu\u001b[0m \u001b[1;33m=\u001b[0m \u001b[0m_validate_vector\u001b[0m\u001b[1;33m(\u001b[0m\u001b[0mu\u001b[0m\u001b[1;33m)\u001b[0m\u001b[1;33m\u001b[0m\u001b[1;33m\u001b[0m\u001b[0m\n\u001b[1;32m--> 611\u001b[1;33m     \u001b[0mv\u001b[0m \u001b[1;33m=\u001b[0m \u001b[0m_validate_vector\u001b[0m\u001b[1;33m(\u001b[0m\u001b[0mv\u001b[0m\u001b[1;33m)\u001b[0m\u001b[1;33m\u001b[0m\u001b[1;33m\u001b[0m\u001b[0m\n\u001b[0m\u001b[0;32m    612\u001b[0m     \u001b[1;32mif\u001b[0m \u001b[0mw\u001b[0m \u001b[1;32mis\u001b[0m \u001b[1;32mnot\u001b[0m \u001b[1;32mNone\u001b[0m\u001b[1;33m:\u001b[0m\u001b[1;33m\u001b[0m\u001b[1;33m\u001b[0m\u001b[0m\n\u001b[0;32m    613\u001b[0m         \u001b[0mw\u001b[0m \u001b[1;33m=\u001b[0m \u001b[0m_validate_weights\u001b[0m\u001b[1;33m(\u001b[0m\u001b[0mw\u001b[0m\u001b[1;33m)\u001b[0m\u001b[1;33m\u001b[0m\u001b[1;33m\u001b[0m\u001b[0m\n",
            "\u001b[1;32mc:\\Users\\Nguyen Quoc Hop\\anaconda3\\envs\\deeplearning\\lib\\site-packages\\scipy\\spatial\\distance.py\u001b[0m in \u001b[0;36m_validate_vector\u001b[1;34m(u, dtype)\u001b[0m\n\u001b[0;32m    300\u001b[0m     \u001b[1;32mif\u001b[0m \u001b[0mu\u001b[0m\u001b[1;33m.\u001b[0m\u001b[0mndim\u001b[0m \u001b[1;33m==\u001b[0m \u001b[1;36m1\u001b[0m\u001b[1;33m:\u001b[0m\u001b[1;33m\u001b[0m\u001b[1;33m\u001b[0m\u001b[0m\n\u001b[0;32m    301\u001b[0m         \u001b[1;32mreturn\u001b[0m \u001b[0mu\u001b[0m\u001b[1;33m\u001b[0m\u001b[1;33m\u001b[0m\u001b[0m\n\u001b[1;32m--> 302\u001b[1;33m     \u001b[1;32mraise\u001b[0m \u001b[0mValueError\u001b[0m\u001b[1;33m(\u001b[0m\u001b[1;34m\"Input vector should be 1-D.\"\u001b[0m\u001b[1;33m)\u001b[0m\u001b[1;33m\u001b[0m\u001b[1;33m\u001b[0m\u001b[0m\n\u001b[0m\u001b[0;32m    303\u001b[0m \u001b[1;33m\u001b[0m\u001b[0m\n\u001b[0;32m    304\u001b[0m \u001b[1;33m\u001b[0m\u001b[0m\n",
            "\u001b[1;31mValueError\u001b[0m: Input vector should be 1-D."
          ]
        }
      ],
      "source": [
        "def compare(query):\n",
        "  max_cs = 0\n",
        "  max_id = 0\n",
        "  query = remove_punctuation(query)\n",
        "  query = query.lower()\n",
        "  query = word_tokenize(query)\n",
        "\n",
        "  query_arr = []\n",
        "  for token in query:\n",
        "    try:\n",
        "      query_arr.append(list(df_embedding.loc[token]))\n",
        "    except BaseException:\n",
        "      pass \n",
        "  query_arr = np.array(query_arr)\n",
        "  sum_query_arr = np.sum(query_arr,0)\n",
        "\n",
        "\n",
        "  for i in range(0,len(sentences)):\n",
        "    M = np.array([list(df_embedding.loc[token]) for token in sentences[i]])\n",
        "    sum_arr = np.sum(M,0)\n",
        "\n",
        "    #compare sentence(M) and query\n",
        "    cs = 1 - spatial.distance.cosine(sum_query_arr, sum_arr)\n",
        "    if cs > max_cs:\n",
        "      max_cs = cs\n",
        "      max_id = i\n",
        "  \n",
        "  return max_id\n",
        "\n",
        "max_id = compare('Bạn học trường nào?')\n",
        "df['user_b'][max_id]"
      ]
    },
    {
      "cell_type": "code",
      "execution_count": null,
      "metadata": {
        "colab": {
          "base_uri": "https://localhost:8080/"
        },
        "id": "BGv4pvj3BC_Z",
        "outputId": "e5d50d4c-c40b-42a4-def4-d9372e66d829"
      },
      "outputs": [
        {
          "name": "stdout",
          "output_type": "stream",
          "text": [
            "**************************\n",
            "*    start chatting      *\n",
            "*    input q to exit     *\n",
            "**************************\n",
            "you : Bạn học trường nào\n",
            "chatbot : Tớ học đại học Tôn Đức Thắng\n",
            "you : Bạn bao nhiêu tuổi?\n",
            "chatbot : mình 21 tuổi\n",
            "you : Bạn bao nhiêu tuổi?\n",
            "chatbot : mình 21 tuổi\n",
            "you : Bạn có sở thích gì?\n",
            "chatbot : Núi và sông.\n",
            "you : có chơi thể thao không\n",
            "chatbot : Có.\n",
            "you : chiều đi đá banh không\n",
            "chatbot : đi\n",
            "you : ok\n",
            "chatbot : chúc ngày mới vui vể\n",
            "you : q\n",
            "chatbot : tạm biệt\n"
          ]
        }
      ],
      "source": [
        "print(\"**************************\")\n",
        "print(\"*    start chatting      *\")\n",
        "print(\"*    input q to exit     *\")\n",
        "print(\"**************************\")\n",
        "while True:\n",
        "  newMessage  = input(\"you : \")\n",
        "  if newMessage == 'q':\n",
        "    print(\"chatbot :\",\"tạm biệt\")\n",
        "    break\n",
        "  max_id = compare(newMessage)\n",
        "  print(\"chatbot :\",df['user_b'][max_id])"
      ]
    },
    {
      "cell_type": "code",
      "execution_count": null,
      "metadata": {
        "id": "puvE8dOAMKQr"
      },
      "outputs": [],
      "source": [
        "# **************************\n",
        "# *    start chatting      *\n",
        "# *    input q to exit     *\n",
        "# **************************\n",
        "# you : Bạn học trường nào\n",
        "# chatbot : Tớ học đại học Tôn Đức Thắng\n",
        "# you : Bạn bao nhiêu tuổi?\n",
        "# chatbot : mình 21 tuổi\n",
        "# you : Bạn bao nhiêu tuổi?\n",
        "# chatbot : mình 21 tuổi\n",
        "# you : Bạn có sở thích gì?\n",
        "# chatbot : Núi và sông.\n",
        "# you : có chơi thể thao không\n",
        "# chatbot : Có.\n",
        "# you : chiều đi đá banh không\n",
        "# chatbot : đi\n",
        "# you : ok\n",
        "# chatbot : chúc ngày mới vui vể\n",
        "# you : q\n",
        "# chatbot : tạm biệt"
      ]
    },
    {
      "cell_type": "code",
      "execution_count": null,
      "metadata": {},
      "outputs": [],
      "source": []
    }
  ],
  "metadata": {
    "colab": {
      "collapsed_sections": [
        "Tskc-H4_RH4G"
      ],
      "provenance": []
    },
    "kernelspec": {
      "display_name": "deeplearning",
      "language": "python",
      "name": "python3"
    },
    "language_info": {
      "codemirror_mode": {
        "name": "ipython",
        "version": 3
      },
      "file_extension": ".py",
      "mimetype": "text/x-python",
      "name": "python",
      "nbconvert_exporter": "python",
      "pygments_lexer": "ipython3",
      "version": "3.8.5"
    },
    "vscode": {
      "interpreter": {
        "hash": "5a0e723ed086194c9e58ad496de2cef8c3197e7cc419d1fd279311483aec59b6"
      }
    }
  },
  "nbformat": 4,
  "nbformat_minor": 0
}
